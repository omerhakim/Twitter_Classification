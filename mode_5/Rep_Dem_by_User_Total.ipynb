{
 "cells": [
  {
   "cell_type": "markdown",
   "metadata": {},
   "source": [
    "# Prediction with Total Individual Tweets"
   ]
  },
  {
   "cell_type": "code",
   "execution_count": 1,
   "metadata": {},
   "outputs": [],
   "source": [
    "import pandas as pd\n",
    "import json\n",
    "import nltk\n",
    "from nltk.collocations import *\n",
    "from nltk.stem import PorterStemmer\n",
    "from nltk.util import ngrams"
   ]
  },
  {
   "cell_type": "markdown",
   "metadata": {},
   "source": [
    "### Democrats"
   ]
  },
  {
   "cell_type": "code",
   "execution_count": null,
   "metadata": {},
   "outputs": [],
   "source": [
    "Democrats  = pd.read_csv('Democrats_final.csv')\n",
    "Democrats.drop(['Unnamed: 0'], axis=1, inplace  = True)\n",
    "Democrats =  Democrats.groupby('username')['tweet'].apply(' '.join).reset_index()"
   ]
  },
  {
   "cell_type": "code",
   "execution_count": null,
   "metadata": {},
   "outputs": [],
   "source": [
    "pattern = \"([a-zA-Z]+(?:'[a-z]+)?)\"\n",
    "Democrats[\"tweet\"] =Democrats[\"tweet\"].apply(lambda x: nltk.regexp_tokenize(x,pattern))"
   ]
  },
  {
   "cell_type": "code",
   "execution_count": null,
   "metadata": {},
   "outputs": [],
   "source": [
    "with open('vocab_total_D_R.json', 'r') as f:\n",
    "        vocab_total_D_R = json.load(f)"
   ]
  },
  {
   "cell_type": "code",
   "execution_count": null,
   "metadata": {},
   "outputs": [],
   "source": [
    "def stem_to_final_list(list_of_tokens):\n",
    "    porter = PorterStemmer()\n",
    "    line = [porter.stem(word) for word in list_of_tokens]\n",
    "    line_stem = [word for word in line if word in vocab_total_D_R]\n",
    "    return line_stem"
   ]
  },
  {
   "cell_type": "code",
   "execution_count": null,
   "metadata": {},
   "outputs": [],
   "source": [
    "for i in range(len(Democrats)):\n",
    "    Democrats['tweet'][i] = stem_to_final_list(Democrats['tweet'][i])"
   ]
  },
  {
   "cell_type": "code",
   "execution_count": null,
   "metadata": {},
   "outputs": [],
   "source": [
    "Democrats['Target'] = 'D'"
   ]
  },
  {
   "cell_type": "code",
   "execution_count": null,
   "metadata": {},
   "outputs": [],
   "source": [
    "Democrats.head()"
   ]
  },
  {
   "cell_type": "code",
   "execution_count": null,
   "metadata": {},
   "outputs": [],
   "source": [
    "Democrats.to_csv('joint_democrats.csv')"
   ]
  },
  {
   "cell_type": "markdown",
   "metadata": {},
   "source": [
    "#### Republican"
   ]
  },
  {
   "cell_type": "code",
   "execution_count": null,
   "metadata": {},
   "outputs": [],
   "source": [
    "Republican  = pd.read_csv('Final_Rep.csv')\n",
    "Republican.drop(['Unnamed: 0'], axis=1, inplace  = True)\n",
    "Republican =  Republican.groupby('username')['tweet'].apply(' '.join).reset_index()"
   ]
  },
  {
   "cell_type": "code",
   "execution_count": null,
   "metadata": {},
   "outputs": [],
   "source": [
    "Republican[\"tweet\"] =Republican[\"tweet\"].apply(lambda x: nltk.regexp_tokenize(x,pattern))"
   ]
  },
  {
   "cell_type": "code",
   "execution_count": null,
   "metadata": {},
   "outputs": [],
   "source": [
    "for i in range(len(Republican)):\n",
    "    Republican['tweet'][i] = stem_to_final_list(Republican['tweet'][i])"
   ]
  },
  {
   "cell_type": "code",
   "execution_count": null,
   "metadata": {},
   "outputs": [],
   "source": [
    "Republican['Target'] = 'R'"
   ]
  },
  {
   "cell_type": "code",
   "execution_count": null,
   "metadata": {},
   "outputs": [],
   "source": [
    "Republican.to_csv('joint_republican.csv')"
   ]
  },
  {
   "cell_type": "markdown",
   "metadata": {},
   "source": [
    "## Creating Data Frame by User"
   ]
  },
  {
   "cell_type": "code",
   "execution_count": 5,
   "metadata": {},
   "outputs": [],
   "source": [
    "Republican  = pd.read_csv('joint_republican.csv')\n",
    "Republican.drop(['Unnamed: 0'], axis=1, inplace  = True)\n",
    "Democrats  = pd.read_csv('joint_democrats.csv')\n",
    "Democrats.drop(['Unnamed: 0'], axis=1, inplace  = True)"
   ]
  },
  {
   "cell_type": "code",
   "execution_count": 6,
   "metadata": {},
   "outputs": [],
   "source": [
    "Final_RD_Tweet_User = pd.concat([Democrats, Republican], axis=0, ignore_index=True)"
   ]
  },
  {
   "cell_type": "code",
   "execution_count": 8,
   "metadata": {},
   "outputs": [],
   "source": [
    "Final_RD_Tweet_User.to_csv('Final_RD_Tweet_User.csv')"
   ]
  },
  {
   "cell_type": "code",
   "execution_count": 2,
   "metadata": {},
   "outputs": [],
   "source": [
    "Final_RD_Tweet_User = pd.read_csv('Final_RD_Tweet_User.csv')"
   ]
  },
  {
   "cell_type": "code",
   "execution_count": 5,
   "metadata": {},
   "outputs": [],
   "source": [
    "Final_RD_Tweet_User.head(3)\n",
    "Final_RD_Tweet_User.drop('Unnamed: 0',axis = 1, inplace = True)"
   ]
  },
  {
   "cell_type": "code",
   "execution_count": 6,
   "metadata": {},
   "outputs": [],
   "source": [
    "Final_RD_Tweet_User.set_index('username', inplace = True)"
   ]
  },
  {
   "cell_type": "markdown",
   "metadata": {},
   "source": [
    "## Predictions"
   ]
  },
  {
   "cell_type": "code",
   "execution_count": 7,
   "metadata": {},
   "outputs": [],
   "source": [
    "from sklearn.model_selection import train_test_split\n",
    "from sklearn.feature_extraction.text import TfidfVectorizer, CountVectorizer\n",
    "from sklearn.metrics import accuracy_score, f1_score\n",
    "from sklearn.datasets import fetch_20newsgroups\n",
    "from sklearn.ensemble import RandomForestClassifier\n",
    "from sklearn.naive_bayes import MultinomialNB, GaussianNB\n",
    "from sklearn import metrics\n",
    "import numpy as np\n",
    "import xgboost as xgb\n",
    "import os\n",
    "os.environ['KMP_DUPLICATE_LIB_OK']= 'True'"
   ]
  },
  {
   "cell_type": "code",
   "execution_count": 8,
   "metadata": {},
   "outputs": [],
   "source": [
    "data = Final_RD_Tweet_User['tweet']\n",
    "target = Final_RD_Tweet_User['Target']"
   ]
  },
  {
   "cell_type": "code",
   "execution_count": 9,
   "metadata": {},
   "outputs": [],
   "source": [
    "X_train, X_test, y_train, y_test = train_test_split(data , target, test_size=0.20)"
   ]
  },
  {
   "cell_type": "code",
   "execution_count": 54,
   "metadata": {},
   "outputs": [],
   "source": [
    "def print_wrong_prediction(actual, prediction):\n",
    "    df5 = pd.DataFrame(actual)\n",
    "    df6 = pd.DataFrame(prediction, columns = ['PRED'])\n",
    "    df5['PRED'] = df6['PRED'].values\n",
    "    df5.reset_index(inplace = True)\n",
    "    for i in range(len(df5)):\n",
    "        if df5.Target[i] != df5.PRED[i]:\n",
    "            print (df5.username[i],df5.Target[i])"
   ]
  },
  {
   "cell_type": "markdown",
   "metadata": {},
   "source": [
    "## TF-IDF Vectorizer"
   ]
  },
  {
   "cell_type": "code",
   "execution_count": 10,
   "metadata": {},
   "outputs": [],
   "source": [
    "vectorizer = TfidfVectorizer()\n",
    "tf_idf_data_train = vectorizer.fit_transform(X_train)\n",
    "tf_idf_data_test = vectorizer.transform(X_test)"
   ]
  },
  {
   "cell_type": "code",
   "execution_count": 11,
   "metadata": {},
   "outputs": [
    {
     "data": {
      "text/plain": [
       "(406, 9517)"
      ]
     },
     "execution_count": 11,
     "metadata": {},
     "output_type": "execute_result"
    }
   ],
   "source": [
    "tf_idf_data_train.shape"
   ]
  },
  {
   "cell_type": "code",
   "execution_count": 12,
   "metadata": {},
   "outputs": [],
   "source": [
    "nb_classifier = MultinomialNB()\n",
    "rf_classifier = RandomForestClassifier( n_jobs=-1)\n",
    "xgb_classifier = xgb.XGBClassifier()"
   ]
  },
  {
   "cell_type": "markdown",
   "metadata": {},
   "source": [
    "## Naive Bayes - TF-IDF Vectorizer"
   ]
  },
  {
   "cell_type": "code",
   "execution_count": 60,
   "metadata": {},
   "outputs": [],
   "source": [
    "nb_classifier.fit(tf_idf_data_train, y_train)\n",
    "nb_train_preds = nb_classifier.predict(tf_idf_data_train)\n",
    "nb_test_preds = nb_classifier.predict(tf_idf_data_test)"
   ]
  },
  {
   "cell_type": "code",
   "execution_count": 61,
   "metadata": {},
   "outputs": [
    {
     "name": "stdout",
     "output_type": "stream",
     "text": [
      "Training Accuracy: 0.9187 \t\t Testing Accuracy: 0.7745\n",
      "\n",
      "----------------------------------------------------------------------\n"
     ]
    }
   ],
   "source": [
    "nb_train_score = accuracy_score(y_train, nb_train_preds)\n",
    "nb_test_score = accuracy_score(y_test, nb_test_preds)\n",
    "print(\"Training Accuracy: {:.4} \\t\\t Testing Accuracy: {:.4}\".format(nb_train_score, nb_test_score))\n",
    "print(\"\")\n",
    "print('-'*70)"
   ]
  },
  {
   "cell_type": "code",
   "execution_count": 62,
   "metadata": {},
   "outputs": [
    {
     "data": {
      "text/plain": [
       "array([[54,  0],\n",
       "       [23, 25]])"
      ]
     },
     "execution_count": 62,
     "metadata": {},
     "output_type": "execute_result"
    }
   ],
   "source": [
    "confusion = metrics.confusion_matrix(y_test, nb_test_preds, labels = ['D','R'])\n",
    "confusion"
   ]
  },
  {
   "cell_type": "code",
   "execution_count": 63,
   "metadata": {},
   "outputs": [
    {
     "name": "stdout",
     "output_type": "stream",
     "text": [
      "TRAINING_wrong:\n",
      "repdancrenshaw R\n",
      "michaelcburgess R\n",
      "repdougcollins R\n",
      "repthomasmassie R\n",
      "repjohnkatko R\n",
      "repbrianmast R\n",
      "senatorcollins R\n",
      "senatorburr R\n",
      "reptomreed R\n",
      "repbrianfitz R\n",
      "susanwbrooks R\n",
      "sencorygardner R\n",
      "hurdonthehill R\n",
      "repgusbilirakis R\n",
      "sencapito R\n",
      "repsmucker R\n",
      "reprutherfordfl R\n",
      "senronjohnson R\n",
      "kencalvert R\n",
      "rodneydavis R\n",
      "mariodb R\n",
      "repmarkmeadows R\n",
      "robwittman R\n",
      "repkaygranger R\n",
      "reppaulcook R\n",
      "randpaul R\n",
      "sentoomey R\n",
      "repgregwalden R\n",
      "mcconnellpress R\n",
      "senmikelee R\n",
      "herrerabeutler R\n",
      "repdonbacon R\n",
      "repkinzinger R\n",
      "\n",
      "\n",
      "TESTING_Wrong:\n",
      "senjoniernst R\n",
      "senrickscott R\n",
      "repdonyoung R\n",
      "mactxpress R\n",
      "repkevinbrady R\n",
      "repdavejoyce R\n",
      "repgallagher R\n",
      "repmckinley R\n",
      "repmoolenaar R\n",
      "senatorlankford R\n",
      "repstevestivers R\n",
      "repagonzalez R\n",
      "senatortimscott R\n",
      "repjenniffer R\n",
      "lisamurkowski R\n",
      "sendansullivan R\n",
      "drnealdunnfl2 R\n",
      "reppeteking R\n",
      "replamalfa R\n",
      "markamodeinv2 R\n",
      "senrobportman R\n",
      "repleezeldin R\n",
      "repbost R\n"
     ]
    }
   ],
   "source": [
    "print ('TRAINING_wrong:')\n",
    "print_wrong_prediction(y_train, nb_train_preds)\n",
    "print ('\\n')\n",
    "print ('TESTING_Wrong:')\n",
    "print_wrong_prediction(y_test, nb_test_preds)"
   ]
  },
  {
   "cell_type": "markdown",
   "metadata": {},
   "source": [
    "## Random Forest - TF-IDF Vectorizer"
   ]
  },
  {
   "cell_type": "code",
   "execution_count": 67,
   "metadata": {},
   "outputs": [],
   "source": [
    "rf_classifier.fit(tf_idf_data_train, y_train)\n",
    "rf_train_preds = rf_classifier.predict(tf_idf_data_train)\n",
    "rf_test_preds = rf_classifier.predict(tf_idf_data_test)"
   ]
  },
  {
   "cell_type": "code",
   "execution_count": 68,
   "metadata": {},
   "outputs": [
    {
     "name": "stdout",
     "output_type": "stream",
     "text": [
      "Random Forest\n",
      "Training Accuracy: 1.0 \t\t Testing Accuracy: 0.9216\n"
     ]
    }
   ],
   "source": [
    "rf_train_score = accuracy_score(y_train, rf_train_preds)\n",
    "rf_test_score = accuracy_score(y_test, rf_test_preds)\n",
    "print('Random Forest')\n",
    "print(\"Training Accuracy: {:.4} \\t\\t Testing Accuracy: {:.4}\".format(rf_train_score, rf_test_score))"
   ]
  },
  {
   "cell_type": "code",
   "execution_count": 69,
   "metadata": {},
   "outputs": [
    {
     "data": {
      "text/plain": [
       "array([[50,  4],\n",
       "       [ 4, 44]])"
      ]
     },
     "execution_count": 69,
     "metadata": {},
     "output_type": "execute_result"
    }
   ],
   "source": [
    "confusion = metrics.confusion_matrix(y_test, rf_test_preds, labels = ['D','R'])\n",
    "confusion"
   ]
  },
  {
   "cell_type": "code",
   "execution_count": 70,
   "metadata": {
    "scrolled": true
   },
   "outputs": [
    {
     "name": "stdout",
     "output_type": "stream",
     "text": [
      "TRAINING_wrong:\n",
      "\n",
      "\n",
      "TESTING_Wrong:\n",
      "senrickscott R\n",
      "reprichmond D\n",
      "johncornyn R\n",
      "repaoc D\n",
      "reppeteking R\n",
      "senmurphyoffice D\n",
      "sanfordbishop D\n",
      "repleezeldin R\n"
     ]
    }
   ],
   "source": [
    "print ('TRAINING_wrong:')\n",
    "print_wrong_prediction(y_train, rf_train_preds)\n",
    "print ('\\n')\n",
    "print ('TESTING_Wrong:')\n",
    "print_wrong_prediction(y_test, rf_test_preds)"
   ]
  },
  {
   "cell_type": "code",
   "execution_count": 72,
   "metadata": {},
   "outputs": [
    {
     "data": {
      "text/html": [
       "<div>\n",
       "<style scoped>\n",
       "    .dataframe tbody tr th:only-of-type {\n",
       "        vertical-align: middle;\n",
       "    }\n",
       "\n",
       "    .dataframe tbody tr th {\n",
       "        vertical-align: top;\n",
       "    }\n",
       "\n",
       "    .dataframe thead th {\n",
       "        text-align: right;\n",
       "    }\n",
       "</style>\n",
       "<table border=\"1\" class=\"dataframe\">\n",
       "  <thead>\n",
       "    <tr style=\"text-align: right;\">\n",
       "      <th></th>\n",
       "      <th>importance</th>\n",
       "    </tr>\n",
       "  </thead>\n",
       "  <tbody>\n",
       "    <tr>\n",
       "      <th>equalityact</th>\n",
       "      <td>0.064850</td>\n",
       "    </tr>\n",
       "    <tr>\n",
       "      <th>trumpshutdown</th>\n",
       "      <td>0.050488</td>\n",
       "    </tr>\n",
       "    <tr>\n",
       "      <th>equalpayday</th>\n",
       "      <td>0.037397</td>\n",
       "    </tr>\n",
       "    <tr>\n",
       "      <th>coverag</th>\n",
       "      <td>0.035883</td>\n",
       "    </tr>\n",
       "    <tr>\n",
       "      <th>action</th>\n",
       "      <td>0.034674</td>\n",
       "    </tr>\n",
       "    <tr>\n",
       "      <th>ban</th>\n",
       "      <td>0.030990</td>\n",
       "    </tr>\n",
       "    <tr>\n",
       "      <th>fight</th>\n",
       "      <td>0.025213</td>\n",
       "    </tr>\n",
       "    <tr>\n",
       "      <th>end</th>\n",
       "      <td>0.021686</td>\n",
       "    </tr>\n",
       "    <tr>\n",
       "      <th>worker</th>\n",
       "      <td>0.021574</td>\n",
       "    </tr>\n",
       "    <tr>\n",
       "      <th>usmca</th>\n",
       "      <td>0.021125</td>\n",
       "    </tr>\n",
       "    <tr>\n",
       "      <th>southern</th>\n",
       "      <td>0.020420</td>\n",
       "    </tr>\n",
       "    <tr>\n",
       "      <th>invest</th>\n",
       "      <td>0.018672</td>\n",
       "    </tr>\n",
       "    <tr>\n",
       "      <th>treat</th>\n",
       "      <td>0.017502</td>\n",
       "    </tr>\n",
       "    <tr>\n",
       "      <th>bless</th>\n",
       "      <td>0.015931</td>\n",
       "    </tr>\n",
       "    <tr>\n",
       "      <th>violenc</th>\n",
       "      <td>0.014695</td>\n",
       "    </tr>\n",
       "    <tr>\n",
       "      <th>climat</th>\n",
       "      <td>0.013129</td>\n",
       "    </tr>\n",
       "    <tr>\n",
       "      <th>petit</th>\n",
       "      <td>0.011947</td>\n",
       "    </tr>\n",
       "    <tr>\n",
       "      <th>cent</th>\n",
       "      <td>0.011608</td>\n",
       "    </tr>\n",
       "    <tr>\n",
       "      <th>employe</th>\n",
       "      <td>0.010610</td>\n",
       "    </tr>\n",
       "    <tr>\n",
       "      <th>savethenet</th>\n",
       "      <td>0.010529</td>\n",
       "    </tr>\n",
       "    <tr>\n",
       "      <th>earthday</th>\n",
       "      <td>0.010441</td>\n",
       "    </tr>\n",
       "    <tr>\n",
       "      <th>pre</th>\n",
       "      <td>0.009830</td>\n",
       "    </tr>\n",
       "    <tr>\n",
       "      <th>children</th>\n",
       "      <td>0.009474</td>\n",
       "    </tr>\n",
       "    <tr>\n",
       "      <th>prolif</th>\n",
       "      <td>0.009380</td>\n",
       "    </tr>\n",
       "    <tr>\n",
       "      <th>terrorist</th>\n",
       "      <td>0.008955</td>\n",
       "    </tr>\n",
       "  </tbody>\n",
       "</table>\n",
       "</div>"
      ],
      "text/plain": [
       "               importance\n",
       "equalityact      0.064850\n",
       "trumpshutdown    0.050488\n",
       "equalpayday      0.037397\n",
       "coverag          0.035883\n",
       "action           0.034674\n",
       "ban              0.030990\n",
       "fight            0.025213\n",
       "end              0.021686\n",
       "worker           0.021574\n",
       "usmca            0.021125\n",
       "southern         0.020420\n",
       "invest           0.018672\n",
       "treat            0.017502\n",
       "bless            0.015931\n",
       "violenc          0.014695\n",
       "climat           0.013129\n",
       "petit            0.011947\n",
       "cent             0.011608\n",
       "employe          0.010610\n",
       "savethenet       0.010529\n",
       "earthday         0.010441\n",
       "pre              0.009830\n",
       "children         0.009474\n",
       "prolif           0.009380\n",
       "terrorist        0.008955"
      ]
     },
     "execution_count": 72,
     "metadata": {},
     "output_type": "execute_result"
    }
   ],
   "source": [
    "df_idf = pd.DataFrame(tf_idf_data_train.todense(),columns = vectorizer.get_feature_names())\n",
    "feature_importance = pd.DataFrame(rf_classifier.feature_importances_, index=df_idf.columns, columns=['importance']).sort_values('importance',ascending=False)\n",
    "feature_importance.head(25)"
   ]
  },
  {
   "cell_type": "markdown",
   "metadata": {},
   "source": [
    "## Xgboost - TF-IDF Vectorizer"
   ]
  },
  {
   "cell_type": "code",
   "execution_count": 56,
   "metadata": {},
   "outputs": [],
   "source": [
    "xgb_classifier.fit(tf_idf_data_train, y_train)\n",
    "xgb_train_preds = xgb_classifier.predict(tf_idf_data_train)\n",
    "xgb_test_preds = xgb_classifier.predict(tf_idf_data_test)"
   ]
  },
  {
   "cell_type": "code",
   "execution_count": 57,
   "metadata": {},
   "outputs": [
    {
     "name": "stdout",
     "output_type": "stream",
     "text": [
      "xgboost\n",
      "Training Accuracy: 1.0 \t\t Testing Accuracy: 0.951\n"
     ]
    }
   ],
   "source": [
    "xgb_train_score = accuracy_score(y_train, xgb_train_preds)\n",
    "xgb_test_score = accuracy_score(y_test, xgb_test_preds)\n",
    "print('xgboost')\n",
    "print(\"Training Accuracy: {:.4} \\t\\t Testing Accuracy: {:.4}\".format(xgb_train_score, xgb_test_score))"
   ]
  },
  {
   "cell_type": "code",
   "execution_count": 58,
   "metadata": {},
   "outputs": [
    {
     "data": {
      "text/plain": [
       "array([[51,  3],\n",
       "       [ 2, 46]])"
      ]
     },
     "execution_count": 58,
     "metadata": {},
     "output_type": "execute_result"
    }
   ],
   "source": [
    "confusion = metrics.confusion_matrix(y_test, xgb_test_preds, labels = ['D','R'])\n",
    "confusion"
   ]
  },
  {
   "cell_type": "code",
   "execution_count": 59,
   "metadata": {
    "scrolled": true
   },
   "outputs": [
    {
     "name": "stdout",
     "output_type": "stream",
     "text": [
      "TRAINING_wrong:\n",
      "\n",
      "\n",
      "TESTING_Wrong:\n",
      "replouiegohmert R\n",
      "repjenniffer R\n",
      "sen_joemanchin D\n",
      "repaoc D\n",
      "senmurphyoffice D\n"
     ]
    }
   ],
   "source": [
    "print ('TRAINING_wrong:')\n",
    "print_wrong_prediction(y_train, xgb_train_preds)\n",
    "print ('\\n')\n",
    "print ('TESTING_Wrong:')\n",
    "print_wrong_prediction(y_test, xgb_test_preds)"
   ]
  },
  {
   "cell_type": "code",
   "execution_count": 73,
   "metadata": {},
   "outputs": [
    {
     "data": {
      "text/html": [
       "<div>\n",
       "<style scoped>\n",
       "    .dataframe tbody tr th:only-of-type {\n",
       "        vertical-align: middle;\n",
       "    }\n",
       "\n",
       "    .dataframe tbody tr th {\n",
       "        vertical-align: top;\n",
       "    }\n",
       "\n",
       "    .dataframe thead th {\n",
       "        text-align: right;\n",
       "    }\n",
       "</style>\n",
       "<table border=\"1\" class=\"dataframe\">\n",
       "  <thead>\n",
       "    <tr style=\"text-align: right;\">\n",
       "      <th></th>\n",
       "      <th>importance</th>\n",
       "    </tr>\n",
       "  </thead>\n",
       "  <tbody>\n",
       "    <tr>\n",
       "      <th>forthepeopl</th>\n",
       "      <td>0.046392</td>\n",
       "    </tr>\n",
       "    <tr>\n",
       "      <th>netneutr</th>\n",
       "      <td>0.036082</td>\n",
       "    </tr>\n",
       "    <tr>\n",
       "      <th>aliv</th>\n",
       "      <td>0.036082</td>\n",
       "    </tr>\n",
       "    <tr>\n",
       "      <th>equalityact</th>\n",
       "      <td>0.033505</td>\n",
       "    </tr>\n",
       "    <tr>\n",
       "      <th>discrimin</th>\n",
       "      <td>0.030928</td>\n",
       "    </tr>\n",
       "    <tr>\n",
       "      <th>statu</th>\n",
       "      <td>0.028351</td>\n",
       "    </tr>\n",
       "    <tr>\n",
       "      <th>administr</th>\n",
       "      <td>0.025773</td>\n",
       "    </tr>\n",
       "    <tr>\n",
       "      <th>climat</th>\n",
       "      <td>0.023196</td>\n",
       "    </tr>\n",
       "    <tr>\n",
       "      <th>lgbtq</th>\n",
       "      <td>0.023196</td>\n",
       "    </tr>\n",
       "    <tr>\n",
       "      <th>afford</th>\n",
       "      <td>0.023196</td>\n",
       "    </tr>\n",
       "    <tr>\n",
       "      <th>potu</th>\n",
       "      <td>0.023196</td>\n",
       "    </tr>\n",
       "    <tr>\n",
       "      <th>dreamer</th>\n",
       "      <td>0.023196</td>\n",
       "    </tr>\n",
       "    <tr>\n",
       "      <th>action</th>\n",
       "      <td>0.023196</td>\n",
       "    </tr>\n",
       "    <tr>\n",
       "      <th>violenc</th>\n",
       "      <td>0.020619</td>\n",
       "    </tr>\n",
       "    <tr>\n",
       "      <th>year</th>\n",
       "      <td>0.018041</td>\n",
       "    </tr>\n",
       "    <tr>\n",
       "      <th>unemploy</th>\n",
       "      <td>0.018041</td>\n",
       "    </tr>\n",
       "    <tr>\n",
       "      <th>foxnew</th>\n",
       "      <td>0.018041</td>\n",
       "    </tr>\n",
       "    <tr>\n",
       "      <th>worker</th>\n",
       "      <td>0.018041</td>\n",
       "    </tr>\n",
       "    <tr>\n",
       "      <th>black</th>\n",
       "      <td>0.015464</td>\n",
       "    </tr>\n",
       "    <tr>\n",
       "      <th>stevescalis</th>\n",
       "      <td>0.015464</td>\n",
       "    </tr>\n",
       "    <tr>\n",
       "      <th>readi</th>\n",
       "      <td>0.015464</td>\n",
       "    </tr>\n",
       "    <tr>\n",
       "      <th>equal</th>\n",
       "      <td>0.015464</td>\n",
       "    </tr>\n",
       "    <tr>\n",
       "      <th>equalpayday</th>\n",
       "      <td>0.015464</td>\n",
       "    </tr>\n",
       "    <tr>\n",
       "      <th>democrat</th>\n",
       "      <td>0.012887</td>\n",
       "    </tr>\n",
       "    <tr>\n",
       "      <th>trump</th>\n",
       "      <td>0.012887</td>\n",
       "    </tr>\n",
       "  </tbody>\n",
       "</table>\n",
       "</div>"
      ],
      "text/plain": [
       "             importance\n",
       "forthepeopl    0.046392\n",
       "netneutr       0.036082\n",
       "aliv           0.036082\n",
       "equalityact    0.033505\n",
       "discrimin      0.030928\n",
       "statu          0.028351\n",
       "administr      0.025773\n",
       "climat         0.023196\n",
       "lgbtq          0.023196\n",
       "afford         0.023196\n",
       "potu           0.023196\n",
       "dreamer        0.023196\n",
       "action         0.023196\n",
       "violenc        0.020619\n",
       "year           0.018041\n",
       "unemploy       0.018041\n",
       "foxnew         0.018041\n",
       "worker         0.018041\n",
       "black          0.015464\n",
       "stevescalis    0.015464\n",
       "readi          0.015464\n",
       "equal          0.015464\n",
       "equalpayday    0.015464\n",
       "democrat       0.012887\n",
       "trump          0.012887"
      ]
     },
     "execution_count": 73,
     "metadata": {},
     "output_type": "execute_result"
    }
   ],
   "source": [
    "df_idf = pd.DataFrame(tf_idf_data_train.todense(),columns = vectorizer.get_feature_names())\n",
    "feature_importance = pd.DataFrame(xgb_classifier.feature_importances_, index=df_idf.columns, columns=['importance']).sort_values('importance',ascending=False)\n",
    "feature_importance.head(25)"
   ]
  },
  {
   "cell_type": "markdown",
   "metadata": {},
   "source": [
    "# Count Vectorizer"
   ]
  },
  {
   "cell_type": "code",
   "execution_count": 23,
   "metadata": {},
   "outputs": [],
   "source": [
    "count_vectorizer = CountVectorizer()\n",
    "count_data_train = count_vectorizer.fit_transform(X_train)\n",
    "count_data_test = count_vectorizer.transform(X_test)"
   ]
  },
  {
   "cell_type": "code",
   "execution_count": 24,
   "metadata": {},
   "outputs": [
    {
     "data": {
      "text/plain": [
       "(406, 9517)"
      ]
     },
     "execution_count": 24,
     "metadata": {},
     "output_type": "execute_result"
    }
   ],
   "source": [
    "count_data_train.shape"
   ]
  },
  {
   "cell_type": "markdown",
   "metadata": {},
   "source": [
    "## Naive Bayes - Count Vectorizer"
   ]
  },
  {
   "cell_type": "code",
   "execution_count": 25,
   "metadata": {},
   "outputs": [],
   "source": [
    "nb_classifier.fit(count_data_train, y_train)\n",
    "nb_train_preds = nb_classifier.predict(count_data_train)\n",
    "nb_test_preds = nb_classifier.predict(count_data_test)"
   ]
  },
  {
   "cell_type": "code",
   "execution_count": 26,
   "metadata": {},
   "outputs": [
    {
     "name": "stdout",
     "output_type": "stream",
     "text": [
      "NB\n",
      "Training Accuracy: 0.9901 \t\t Testing Accuracy: 0.9902\n",
      "\n",
      "----------------------------------------------------------------------\n"
     ]
    }
   ],
   "source": [
    "nb_train_score = accuracy_score(y_train, nb_train_preds)\n",
    "nb_test_score = accuracy_score(y_test, nb_test_preds)\n",
    "print (\"NB\")\n",
    "print(\"Training Accuracy: {:.4} \\t\\t Testing Accuracy: {:.4}\".format(nb_train_score, nb_test_score))\n",
    "print(\"\")\n",
    "print('-'*70)"
   ]
  },
  {
   "cell_type": "code",
   "execution_count": 27,
   "metadata": {},
   "outputs": [
    {
     "data": {
      "text/plain": [
       "array([[53,  1],\n",
       "       [ 0, 48]])"
      ]
     },
     "execution_count": 27,
     "metadata": {},
     "output_type": "execute_result"
    }
   ],
   "source": [
    "confusion = metrics.confusion_matrix(y_test, nb_test_preds, labels = ['D','R'])\n",
    "confusion"
   ]
  },
  {
   "cell_type": "code",
   "execution_count": 47,
   "metadata": {},
   "outputs": [
    {
     "name": "stdout",
     "output_type": "stream",
     "text": [
      "TRAINING_wrong:\n",
      "senatorcollins R\n",
      "repcuellar D\n",
      "repvisclosky D\n",
      "repconorlamb D\n",
      "\n",
      "\n",
      "TESTING_Wrong:\n",
      "sen_joemanchin D\n"
     ]
    }
   ],
   "source": [
    "print ('TRAINING_wrong:')\n",
    "print_wrong_prediction(y_train, nb_train_preds)\n",
    "print ('\\n')\n",
    "print ('TESTING_Wrong:')\n",
    "print_wrong_prediction(y_test, nb_test_preds)"
   ]
  },
  {
   "cell_type": "code",
   "execution_count": 64,
   "metadata": {},
   "outputs": [
    {
     "name": "stdout",
     "output_type": "stream",
     "text": [
      "['spillway' 'congressmanhic' 'walberg' 'confuciu' 'americafirst'\n",
      " 'wallswork' 'qi' 'thirddistrictthursday' 'kilmead' 'wafb' 'racin'\n",
      " 'kentuckynewera' 'razorbackbsb' 'kenoshanew' 'kenosha' 'amata' 'kennedyn'\n",
      " 'washex' 'thefederalist' 'radewagen' 'kamalmaz' 'waco' 'tikz' 'lakeeri'\n",
      " 'endinfanticid' 'lakeconew' 'countymeet' 'tipton' 'kymx' 'plano']\n",
      "['endcorruptionnow' 'lgbteqcaucu' 'seiu' 'lgbtqia' 'liberian'\n",
      " 'liftamerica' 'seawal' 'seasact' 'bigoil' 'sear' 'lightfoot'\n",
      " 'seacoastonlin' 'seacoast' 'scrutin' 'lipinski' 'binghamton' 'biodivers'\n",
      " 'loudli' 'loudoun' 'cozi' 'louis' 'scanlon' 'scan' 'louisa' 'savetp'\n",
      " 'savetitlex' 'bhm' 'savetheinternet' 'senateapprop' 'bexar']\n"
     ]
    }
   ],
   "source": [
    "rep_class_prob_sorted = nb_classifier.feature_log_prob_[0, :].argsort()\n",
    "dem_class_prob_sorted = nb_classifier.feature_log_prob_[1, :].argsort()\n",
    "\n",
    "print(np.take(count_vectorizer.get_feature_names(), rep_class_prob_sorted[:30]))\n",
    "print(np.take(count_vectorizer.get_feature_names(), dem_class_prob_sorted[:30]))"
   ]
  },
  {
   "cell_type": "markdown",
   "metadata": {},
   "source": [
    "## Random Forest - Count Vectorizer"
   ]
  },
  {
   "cell_type": "code",
   "execution_count": 28,
   "metadata": {},
   "outputs": [],
   "source": [
    "rf_classifier.fit(count_data_train, y_train)\n",
    "rf_train_preds = rf_classifier.predict(count_data_train)\n",
    "rf_test_preds = rf_classifier.predict(count_data_test)"
   ]
  },
  {
   "cell_type": "code",
   "execution_count": 29,
   "metadata": {},
   "outputs": [
    {
     "name": "stdout",
     "output_type": "stream",
     "text": [
      "Random Forest\n",
      "Training Accuracy: 1.0 \t\t Testing Accuracy: 0.902\n"
     ]
    }
   ],
   "source": [
    "rf_train_score = accuracy_score(y_train, rf_train_preds)\n",
    "rf_test_score = accuracy_score(y_test, rf_test_preds)\n",
    "print('Random Forest')\n",
    "print(\"Training Accuracy: {:.4} \\t\\t Testing Accuracy: {:.4}\".format(rf_train_score, rf_test_score))"
   ]
  },
  {
   "cell_type": "code",
   "execution_count": 30,
   "metadata": {},
   "outputs": [
    {
     "data": {
      "text/plain": [
       "array([[49,  5],\n",
       "       [ 5, 43]])"
      ]
     },
     "execution_count": 30,
     "metadata": {},
     "output_type": "execute_result"
    }
   ],
   "source": [
    "confusion = metrics.confusion_matrix(y_test, rf_test_preds, labels = ['D','R'])\n",
    "confusion"
   ]
  },
  {
   "cell_type": "code",
   "execution_count": 48,
   "metadata": {},
   "outputs": [
    {
     "name": "stdout",
     "output_type": "stream",
     "text": [
      "TRAINING_wrong:\n",
      "\n",
      "\n",
      "TESTING_Wrong:\n",
      "senrickscott R\n",
      "reprichardneal D\n",
      "repkevinbrady R\n",
      "senatortimscott R\n",
      "lisamurkowski R\n",
      "repaoc D\n",
      "senmurphyoffice D\n",
      "repgonzalez D\n",
      "sanfordbishop D\n",
      "johnboozman R\n"
     ]
    }
   ],
   "source": [
    "print ('TRAINING_wrong:')\n",
    "print_wrong_prediction(y_train, rf_train_preds)\n",
    "print ('\\n')\n",
    "print ('TESTING_Wrong:')\n",
    "print_wrong_prediction(y_test, rf_test_preds)"
   ]
  },
  {
   "cell_type": "code",
   "execution_count": 65,
   "metadata": {},
   "outputs": [
    {
     "data": {
      "text/html": [
       "<div>\n",
       "<style scoped>\n",
       "    .dataframe tbody tr th:only-of-type {\n",
       "        vertical-align: middle;\n",
       "    }\n",
       "\n",
       "    .dataframe tbody tr th {\n",
       "        vertical-align: top;\n",
       "    }\n",
       "\n",
       "    .dataframe thead th {\n",
       "        text-align: right;\n",
       "    }\n",
       "</style>\n",
       "<table border=\"1\" class=\"dataframe\">\n",
       "  <thead>\n",
       "    <tr style=\"text-align: right;\">\n",
       "      <th></th>\n",
       "      <th>importance</th>\n",
       "    </tr>\n",
       "  </thead>\n",
       "  <tbody>\n",
       "    <tr>\n",
       "      <th>protectourcar</th>\n",
       "      <td>0.066359</td>\n",
       "    </tr>\n",
       "    <tr>\n",
       "      <th>trumpshutdown</th>\n",
       "      <td>0.041246</td>\n",
       "    </tr>\n",
       "    <tr>\n",
       "      <th>aliv</th>\n",
       "      <td>0.040916</td>\n",
       "    </tr>\n",
       "    <tr>\n",
       "      <th>paycheckfair</th>\n",
       "      <td>0.036446</td>\n",
       "    </tr>\n",
       "    <tr>\n",
       "      <th>woman</th>\n",
       "      <td>0.035387</td>\n",
       "    </tr>\n",
       "    <tr>\n",
       "      <th>discrimin</th>\n",
       "      <td>0.034234</td>\n",
       "    </tr>\n",
       "    <tr>\n",
       "      <th>pre</th>\n",
       "      <td>0.032420</td>\n",
       "    </tr>\n",
       "    <tr>\n",
       "      <th>color</th>\n",
       "      <td>0.030295</td>\n",
       "    </tr>\n",
       "    <tr>\n",
       "      <th>public</th>\n",
       "      <td>0.029829</td>\n",
       "    </tr>\n",
       "    <tr>\n",
       "      <th>shoot</th>\n",
       "      <td>0.027157</td>\n",
       "    </tr>\n",
       "    <tr>\n",
       "      <th>citizenship</th>\n",
       "      <td>0.026230</td>\n",
       "    </tr>\n",
       "    <tr>\n",
       "      <th>lgbtq</th>\n",
       "      <td>0.021715</td>\n",
       "    </tr>\n",
       "    <tr>\n",
       "      <th>endinfanticid</th>\n",
       "      <td>0.016181</td>\n",
       "    </tr>\n",
       "    <tr>\n",
       "      <th>savethenet</th>\n",
       "      <td>0.014736</td>\n",
       "    </tr>\n",
       "    <tr>\n",
       "      <th>hide</th>\n",
       "      <td>0.013144</td>\n",
       "    </tr>\n",
       "    <tr>\n",
       "      <th>wearorang</th>\n",
       "      <td>0.012895</td>\n",
       "    </tr>\n",
       "    <tr>\n",
       "      <th>potu</th>\n",
       "      <td>0.012701</td>\n",
       "    </tr>\n",
       "    <tr>\n",
       "      <th>equalityact</th>\n",
       "      <td>0.012675</td>\n",
       "    </tr>\n",
       "    <tr>\n",
       "      <th>quarter</th>\n",
       "      <td>0.012410</td>\n",
       "    </tr>\n",
       "    <tr>\n",
       "      <th>re</th>\n",
       "      <td>0.012086</td>\n",
       "    </tr>\n",
       "    <tr>\n",
       "      <th>foxnew</th>\n",
       "      <td>0.011540</td>\n",
       "    </tr>\n",
       "    <tr>\n",
       "      <th>whitehous</th>\n",
       "      <td>0.009130</td>\n",
       "    </tr>\n",
       "    <tr>\n",
       "      <th>thamend</th>\n",
       "      <td>0.008600</td>\n",
       "    </tr>\n",
       "    <tr>\n",
       "      <th>pass</th>\n",
       "      <td>0.008394</td>\n",
       "    </tr>\n",
       "    <tr>\n",
       "      <th>count</th>\n",
       "      <td>0.008157</td>\n",
       "    </tr>\n",
       "    <tr>\n",
       "      <th>foxbusi</th>\n",
       "      <td>0.007912</td>\n",
       "    </tr>\n",
       "    <tr>\n",
       "      <th>afford</th>\n",
       "      <td>0.007800</td>\n",
       "    </tr>\n",
       "    <tr>\n",
       "      <th>liber</th>\n",
       "      <td>0.007506</td>\n",
       "    </tr>\n",
       "    <tr>\n",
       "      <th>netneutr</th>\n",
       "      <td>0.007468</td>\n",
       "    </tr>\n",
       "    <tr>\n",
       "      <th>gender</th>\n",
       "      <td>0.007286</td>\n",
       "    </tr>\n",
       "  </tbody>\n",
       "</table>\n",
       "</div>"
      ],
      "text/plain": [
       "               importance\n",
       "protectourcar    0.066359\n",
       "trumpshutdown    0.041246\n",
       "aliv             0.040916\n",
       "paycheckfair     0.036446\n",
       "woman            0.035387\n",
       "discrimin        0.034234\n",
       "pre              0.032420\n",
       "color            0.030295\n",
       "public           0.029829\n",
       "shoot            0.027157\n",
       "citizenship      0.026230\n",
       "lgbtq            0.021715\n",
       "endinfanticid    0.016181\n",
       "savethenet       0.014736\n",
       "hide             0.013144\n",
       "wearorang        0.012895\n",
       "potu             0.012701\n",
       "equalityact      0.012675\n",
       "quarter          0.012410\n",
       "re               0.012086\n",
       "foxnew           0.011540\n",
       "whitehous        0.009130\n",
       "thamend          0.008600\n",
       "pass             0.008394\n",
       "count            0.008157\n",
       "foxbusi          0.007912\n",
       "afford           0.007800\n",
       "liber            0.007506\n",
       "netneutr         0.007468\n",
       "gender           0.007286"
      ]
     },
     "execution_count": 65,
     "metadata": {},
     "output_type": "execute_result"
    }
   ],
   "source": [
    "df_count = pd.DataFrame(count_data_train.todense(),columns = count_vectorizer.get_feature_names())\n",
    "feature_importance = pd.DataFrame(rf_classifier.feature_importances_, index=df_count.columns, columns=['importance']).sort_values('importance',ascending=False)\n",
    "feature_importance.head(30)"
   ]
  },
  {
   "cell_type": "markdown",
   "metadata": {},
   "source": [
    "## XGboost - Count Vectorizer"
   ]
  },
  {
   "cell_type": "code",
   "execution_count": 31,
   "metadata": {},
   "outputs": [],
   "source": [
    "xgb_classifier.fit(count_data_train, y_train)\n",
    "xgb_train_preds = xgb_classifier.predict(count_data_train)\n",
    "xgb_test_preds = xgb_classifier.predict(count_data_test)"
   ]
  },
  {
   "cell_type": "code",
   "execution_count": 32,
   "metadata": {},
   "outputs": [
    {
     "name": "stdout",
     "output_type": "stream",
     "text": [
      "xgboost\n",
      "Training Accuracy: 1.0 \t\t Testing Accuracy: 0.9412\n"
     ]
    }
   ],
   "source": [
    "xgb_train_score = accuracy_score(y_train, xgb_train_preds)\n",
    "xgb_test_score = accuracy_score(y_test, xgb_test_preds)\n",
    "print('xgboost')\n",
    "print(\"Training Accuracy: {:.4} \\t\\t Testing Accuracy: {:.4}\".format(xgb_train_score, xgb_test_score))"
   ]
  },
  {
   "cell_type": "code",
   "execution_count": 33,
   "metadata": {},
   "outputs": [
    {
     "data": {
      "text/plain": [
       "array([[50,  4],\n",
       "       [ 2, 46]])"
      ]
     },
     "execution_count": 33,
     "metadata": {},
     "output_type": "execute_result"
    }
   ],
   "source": [
    "confusion = metrics.confusion_matrix(y_test, xgb_test_preds, labels = ['D','R'])\n",
    "confusion"
   ]
  },
  {
   "cell_type": "code",
   "execution_count": 49,
   "metadata": {},
   "outputs": [
    {
     "name": "stdout",
     "output_type": "stream",
     "text": [
      "TRAINING_wrong:\n",
      "\n",
      "\n",
      "TESTING_Wrong:\n",
      "reprichmond D\n",
      "replouiegohmert R\n",
      "repjenniffer R\n",
      "repaoc D\n",
      "senmurphyoffice D\n",
      "sanfordbishop D\n"
     ]
    }
   ],
   "source": [
    "print ('TRAINING_wrong:')\n",
    "print_wrong_prediction(y_train, xgb_train_preds)\n",
    "print ('\\n')\n",
    "print ('TESTING_Wrong:')\n",
    "print_wrong_prediction(y_test, xgb_test_preds)"
   ]
  },
  {
   "cell_type": "code",
   "execution_count": 66,
   "metadata": {},
   "outputs": [
    {
     "data": {
      "text/html": [
       "<div>\n",
       "<style scoped>\n",
       "    .dataframe tbody tr th:only-of-type {\n",
       "        vertical-align: middle;\n",
       "    }\n",
       "\n",
       "    .dataframe tbody tr th {\n",
       "        vertical-align: top;\n",
       "    }\n",
       "\n",
       "    .dataframe thead th {\n",
       "        text-align: right;\n",
       "    }\n",
       "</style>\n",
       "<table border=\"1\" class=\"dataframe\">\n",
       "  <thead>\n",
       "    <tr style=\"text-align: right;\">\n",
       "      <th></th>\n",
       "      <th>importance</th>\n",
       "    </tr>\n",
       "  </thead>\n",
       "  <tbody>\n",
       "    <tr>\n",
       "      <th>forthepeopl</th>\n",
       "      <td>0.046392</td>\n",
       "    </tr>\n",
       "    <tr>\n",
       "      <th>netneutr</th>\n",
       "      <td>0.036082</td>\n",
       "    </tr>\n",
       "    <tr>\n",
       "      <th>aliv</th>\n",
       "      <td>0.036082</td>\n",
       "    </tr>\n",
       "    <tr>\n",
       "      <th>equalityact</th>\n",
       "      <td>0.033505</td>\n",
       "    </tr>\n",
       "    <tr>\n",
       "      <th>discrimin</th>\n",
       "      <td>0.030928</td>\n",
       "    </tr>\n",
       "    <tr>\n",
       "      <th>statu</th>\n",
       "      <td>0.028351</td>\n",
       "    </tr>\n",
       "    <tr>\n",
       "      <th>administr</th>\n",
       "      <td>0.025773</td>\n",
       "    </tr>\n",
       "    <tr>\n",
       "      <th>climat</th>\n",
       "      <td>0.023196</td>\n",
       "    </tr>\n",
       "    <tr>\n",
       "      <th>lgbtq</th>\n",
       "      <td>0.023196</td>\n",
       "    </tr>\n",
       "    <tr>\n",
       "      <th>afford</th>\n",
       "      <td>0.023196</td>\n",
       "    </tr>\n",
       "    <tr>\n",
       "      <th>potu</th>\n",
       "      <td>0.023196</td>\n",
       "    </tr>\n",
       "    <tr>\n",
       "      <th>dreamer</th>\n",
       "      <td>0.023196</td>\n",
       "    </tr>\n",
       "    <tr>\n",
       "      <th>action</th>\n",
       "      <td>0.023196</td>\n",
       "    </tr>\n",
       "    <tr>\n",
       "      <th>violenc</th>\n",
       "      <td>0.020619</td>\n",
       "    </tr>\n",
       "    <tr>\n",
       "      <th>year</th>\n",
       "      <td>0.018041</td>\n",
       "    </tr>\n",
       "    <tr>\n",
       "      <th>unemploy</th>\n",
       "      <td>0.018041</td>\n",
       "    </tr>\n",
       "    <tr>\n",
       "      <th>foxnew</th>\n",
       "      <td>0.018041</td>\n",
       "    </tr>\n",
       "    <tr>\n",
       "      <th>worker</th>\n",
       "      <td>0.018041</td>\n",
       "    </tr>\n",
       "    <tr>\n",
       "      <th>black</th>\n",
       "      <td>0.015464</td>\n",
       "    </tr>\n",
       "    <tr>\n",
       "      <th>stevescalis</th>\n",
       "      <td>0.015464</td>\n",
       "    </tr>\n",
       "    <tr>\n",
       "      <th>readi</th>\n",
       "      <td>0.015464</td>\n",
       "    </tr>\n",
       "    <tr>\n",
       "      <th>equal</th>\n",
       "      <td>0.015464</td>\n",
       "    </tr>\n",
       "    <tr>\n",
       "      <th>equalpayday</th>\n",
       "      <td>0.015464</td>\n",
       "    </tr>\n",
       "    <tr>\n",
       "      <th>democrat</th>\n",
       "      <td>0.012887</td>\n",
       "    </tr>\n",
       "    <tr>\n",
       "      <th>trump</th>\n",
       "      <td>0.012887</td>\n",
       "    </tr>\n",
       "  </tbody>\n",
       "</table>\n",
       "</div>"
      ],
      "text/plain": [
       "             importance\n",
       "forthepeopl    0.046392\n",
       "netneutr       0.036082\n",
       "aliv           0.036082\n",
       "equalityact    0.033505\n",
       "discrimin      0.030928\n",
       "statu          0.028351\n",
       "administr      0.025773\n",
       "climat         0.023196\n",
       "lgbtq          0.023196\n",
       "afford         0.023196\n",
       "potu           0.023196\n",
       "dreamer        0.023196\n",
       "action         0.023196\n",
       "violenc        0.020619\n",
       "year           0.018041\n",
       "unemploy       0.018041\n",
       "foxnew         0.018041\n",
       "worker         0.018041\n",
       "black          0.015464\n",
       "stevescalis    0.015464\n",
       "readi          0.015464\n",
       "equal          0.015464\n",
       "equalpayday    0.015464\n",
       "democrat       0.012887\n",
       "trump          0.012887"
      ]
     },
     "execution_count": 66,
     "metadata": {},
     "output_type": "execute_result"
    }
   ],
   "source": [
    "df_count = pd.DataFrame(count_data_train.todense(),columns = count_vectorizer.get_feature_names())\n",
    "feature_importance = pd.DataFrame(xgb_classifier.feature_importances_, index=df_count.columns, columns=['importance']).sort_values('importance',ascending=False)\n",
    "feature_importance.head(25)"
   ]
  }
 ],
 "metadata": {
  "kernelspec": {
   "display_name": "Python 3",
   "language": "python",
   "name": "python3"
  },
  "language_info": {
   "codemirror_mode": {
    "name": "ipython",
    "version": 3
   },
   "file_extension": ".py",
   "mimetype": "text/x-python",
   "name": "python",
   "nbconvert_exporter": "python",
   "pygments_lexer": "ipython3",
   "version": "3.7.3"
  }
 },
 "nbformat": 4,
 "nbformat_minor": 2
}
