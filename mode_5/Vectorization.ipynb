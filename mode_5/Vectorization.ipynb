{
 "cells": [
  {
   "cell_type": "markdown",
   "metadata": {},
   "source": [
    "# Prediction by Individual Tweet"
   ]
  },
  {
   "cell_type": "code",
   "execution_count": 3,
   "metadata": {},
   "outputs": [],
   "source": [
    "import pandas as pd\n",
    "import json\n",
    "import nltk\n",
    "from nltk.collocations import *\n",
    "from nltk.stem import PorterStemmer\n",
    "from nltk.util import ngrams"
   ]
  },
  {
   "cell_type": "code",
   "execution_count": null,
   "metadata": {},
   "outputs": [],
   "source": [
    "Final_Congress_tweets = pd.read_csv('final congress.csv')"
   ]
  },
  {
   "cell_type": "code",
   "execution_count": 10,
   "metadata": {},
   "outputs": [],
   "source": [
    "pattern = \"([a-zA-Z]+(?:'[a-z]+)?)\"\n",
    "Final_Congress_tweets[\"tweet\"] = Final_Congress_tweets['tweet'].apply(lambda x: nltk.regexp_tokenize(x,pattern))"
   ]
  },
  {
   "cell_type": "code",
   "execution_count": null,
   "metadata": {},
   "outputs": [],
   "source": [
    "with open('vocab_total_D_R.json', 'r') as f:\n",
    "        vocab_total_D_R = json.load(f)"
   ]
  },
  {
   "cell_type": "code",
   "execution_count": null,
   "metadata": {},
   "outputs": [],
   "source": [
    "def stem_to_final_list(list_of_tokens):\n",
    "    porter = PorterStemmer()\n",
    "    line = [porter.stem(word) for word in list_of_tokens]\n",
    "    line_stem = [word for word in line if word in vocab_total_D_R]\n",
    "    return line_stem"
   ]
  },
  {
   "cell_type": "code",
   "execution_count": 15,
   "metadata": {},
   "outputs": [],
   "source": [
    "for i in range(len(Final_Congress_tweets)):\n",
    "    Final_Congress_tweets['tweet'][i] = stem_to_final_list(Final_Congress_tweets['tweet'][i]) \n",
    "\n"
   ]
  },
  {
   "cell_type": "code",
   "execution_count": 175,
   "metadata": {
    "collapsed": true
   },
   "outputs": [
    {
     "data": {
      "text/html": [
       "<div>\n",
       "<style scoped>\n",
       "    .dataframe tbody tr th:only-of-type {\n",
       "        vertical-align: middle;\n",
       "    }\n",
       "\n",
       "    .dataframe tbody tr th {\n",
       "        vertical-align: top;\n",
       "    }\n",
       "\n",
       "    .dataframe thead th {\n",
       "        text-align: right;\n",
       "    }\n",
       "</style>\n",
       "<table border=\"1\" class=\"dataframe\">\n",
       "  <thead>\n",
       "    <tr style=\"text-align: right;\">\n",
       "      <th></th>\n",
       "      <th>tweet</th>\n",
       "      <th>username</th>\n",
       "      <th>Party</th>\n",
       "    </tr>\n",
       "  </thead>\n",
       "  <tbody>\n",
       "    <tr>\n",
       "      <th>0</th>\n",
       "      <td>.@repjohnlewis was gracious enough to spend ti...</td>\n",
       "      <td>repterrisewell</td>\n",
       "      <td>D</td>\n",
       "    </tr>\n",
       "    <tr>\n",
       "      <th>1</th>\n",
       "      <td>At 450 pages, the Mueller Report is lengthy an...</td>\n",
       "      <td>repterrisewell</td>\n",
       "      <td>D</td>\n",
       "    </tr>\n",
       "    <tr>\n",
       "      <th>2</th>\n",
       "      <td>I am so grateful to have Samuel, our Selma int...</td>\n",
       "      <td>repterrisewell</td>\n",
       "      <td>D</td>\n",
       "    </tr>\n",
       "    <tr>\n",
       "      <th>3</th>\n",
       "      <td>Anyone who knows me knows my dad was an instru...</td>\n",
       "      <td>repterrisewell</td>\n",
       "      <td>D</td>\n",
       "    </tr>\n",
       "    <tr>\n",
       "      <th>4</th>\n",
       "      <td>Please help me welcome our newest summer inter...</td>\n",
       "      <td>repterrisewell</td>\n",
       "      <td>D</td>\n",
       "    </tr>\n",
       "    <tr>\n",
       "      <th>5</th>\n",
       "      <td>I always love meeting with talented students f...</td>\n",
       "      <td>repterrisewell</td>\n",
       "      <td>D</td>\n",
       "    </tr>\n",
       "    <tr>\n",
       "      <th>6</th>\n",
       "      <td>No American is above the law &amp; for Congress to...</td>\n",
       "      <td>repterrisewell</td>\n",
       "      <td>D</td>\n",
       "    </tr>\n",
       "    <tr>\n",
       "      <th>7</th>\n",
       "      <td>I am thrilled to welcome our newest summer int...</td>\n",
       "      <td>repterrisewell</td>\n",
       "      <td>D</td>\n",
       "    </tr>\n",
       "    <tr>\n",
       "      <th>8</th>\n",
       "      <td>Our DC summer interns — John, Diamond, Marjori...</td>\n",
       "      <td>repterrisewell</td>\n",
       "      <td>D</td>\n",
       "    </tr>\n",
       "    <tr>\n",
       "      <th>9</th>\n",
       "      <td>: Please join me this Friday in Pickens County...</td>\n",
       "      <td>repterrisewell</td>\n",
       "      <td>D</td>\n",
       "    </tr>\n",
       "    <tr>\n",
       "      <th>10</th>\n",
       "      <td>Bucket list moment! Today I attended church in...</td>\n",
       "      <td>repterrisewell</td>\n",
       "      <td>D</td>\n",
       "    </tr>\n",
       "    <tr>\n",
       "      <th>11</th>\n",
       "      <td>A big welcome to our Birmingham summer interns...</td>\n",
       "      <td>repterrisewell</td>\n",
       "      <td>D</td>\n",
       "    </tr>\n",
       "    <tr>\n",
       "      <th>12</th>\n",
       "      <td>I was honored to stand with @RandallWoodfin to...</td>\n",
       "      <td>repterrisewell</td>\n",
       "      <td>D</td>\n",
       "    </tr>\n",
       "    <tr>\n",
       "      <th>13</th>\n",
       "      <td>The bravery of those who stormed the beaches o...</td>\n",
       "      <td>repterrisewell</td>\n",
       "      <td>D</td>\n",
       "    </tr>\n",
       "    <tr>\n",
       "      <th>14</th>\n",
       "      <td>I’m so proud of Selma City Schools! The Intl. ...</td>\n",
       "      <td>repterrisewell</td>\n",
       "      <td>D</td>\n",
       "    </tr>\n",
       "    <tr>\n",
       "      <th>15</th>\n",
       "      <td>President Trump’s trade policies are so reckle...</td>\n",
       "      <td>repterrisewell</td>\n",
       "      <td>D</td>\n",
       "    </tr>\n",
       "    <tr>\n",
       "      <th>16</th>\n",
       "      <td>Thank you to @LCBFoundation and @Uber Health f...</td>\n",
       "      <td>repterrisewell</td>\n",
       "      <td>D</td>\n",
       "    </tr>\n",
       "    <tr>\n",
       "      <th>17</th>\n",
       "      <td>The 10,000 Dreamers &amp; TPS holders living in Al...</td>\n",
       "      <td>repterrisewell</td>\n",
       "      <td>D</td>\n",
       "    </tr>\n",
       "    <tr>\n",
       "      <th>18</th>\n",
       "      <td>Today is Foster Youth Shadow Day, a chance for...</td>\n",
       "      <td>repterrisewell</td>\n",
       "      <td>D</td>\n",
       "    </tr>\n",
       "    <tr>\n",
       "      <th>19</th>\n",
       "      <td>I was honored to meet with @FreeMindsDC this a...</td>\n",
       "      <td>repterrisewell</td>\n",
       "      <td>D</td>\n",
       "    </tr>\n",
       "    <tr>\n",
       "      <th>20</th>\n",
       "      <td>Medicaid expansion saves lives! And it also re...</td>\n",
       "      <td>repterrisewell</td>\n",
       "      <td>D</td>\n",
       "    </tr>\n",
       "    <tr>\n",
       "      <th>21</th>\n",
       "      <td>I'm proud to be participating in #FosterYouthS...</td>\n",
       "      <td>repterrisewell</td>\n",
       "      <td>D</td>\n",
       "    </tr>\n",
       "    <tr>\n",
       "      <th>22</th>\n",
       "      <td>Happy Pride Month! Pride Month is an opportuni...</td>\n",
       "      <td>repterrisewell</td>\n",
       "      <td>D</td>\n",
       "    </tr>\n",
       "    <tr>\n",
       "      <th>23</th>\n",
       "      <td>The Paris Agreement is a global pact between 2...</td>\n",
       "      <td>repterrisewell</td>\n",
       "      <td>D</td>\n",
       "    </tr>\n",
       "    <tr>\n",
       "      <th>24</th>\n",
       "      <td>Another unbelievably irresponsible threat by o...</td>\n",
       "      <td>repterrisewell</td>\n",
       "      <td>D</td>\n",
       "    </tr>\n",
       "    <tr>\n",
       "      <th>25</th>\n",
       "      <td>Meeting with Alabamians face-to-face and getti...</td>\n",
       "      <td>repterrisewell</td>\n",
       "      <td>D</td>\n",
       "    </tr>\n",
       "    <tr>\n",
       "      <th>26</th>\n",
       "      <td>I held a health care round table this morning ...</td>\n",
       "      <td>repterrisewell</td>\n",
       "      <td>D</td>\n",
       "    </tr>\n",
       "    <tr>\n",
       "      <th>27</th>\n",
       "      <td>Our Marengo County Congress in Your Community ...</td>\n",
       "      <td>repterrisewell</td>\n",
       "      <td>D</td>\n",
       "    </tr>\n",
       "    <tr>\n",
       "      <th>28</th>\n",
       "      <td>I hope I'll see you tomorrow, Sumter County! h...</td>\n",
       "      <td>repterrisewell</td>\n",
       "      <td>D</td>\n",
       "    </tr>\n",
       "    <tr>\n",
       "      <th>29</th>\n",
       "      <td>Congrats to the winners of the Princeton Prize...</td>\n",
       "      <td>repterrisewell</td>\n",
       "      <td>D</td>\n",
       "    </tr>\n",
       "    <tr>\n",
       "      <th>...</th>\n",
       "      <td>...</td>\n",
       "      <td>...</td>\n",
       "      <td>...</td>\n",
       "    </tr>\n",
       "    <tr>\n",
       "      <th>176250</th>\n",
       "      <td>The Green New Deal is a raw deal for the Ameri...</td>\n",
       "      <td>senjohnbarrasso</td>\n",
       "      <td>R</td>\n",
       "    </tr>\n",
       "    <tr>\n",
       "      <th>176251</th>\n",
       "      <td>In his State of the Union address tonight, @re...</td>\n",
       "      <td>senjohnbarrasso</td>\n",
       "      <td>R</td>\n",
       "    </tr>\n",
       "    <tr>\n",
       "      <th>176252</th>\n",
       "      <td>Always encouraging to see so many students exc...</td>\n",
       "      <td>senjohnbarrasso</td>\n",
       "      <td>R</td>\n",
       "    </tr>\n",
       "    <tr>\n",
       "      <th>176253</th>\n",
       "      <td>Happy birthday to my good friend @SenatorEnzi....</td>\n",
       "      <td>senjohnbarrasso</td>\n",
       "      <td>R</td>\n",
       "    </tr>\n",
       "    <tr>\n",
       "      <th>176254</th>\n",
       "      <td>Proud to join with @SenStabenow to reintroduce...</td>\n",
       "      <td>senjohnbarrasso</td>\n",
       "      <td>R</td>\n",
       "    </tr>\n",
       "    <tr>\n",
       "      <th>176255</th>\n",
       "      <td>Happy birthday to Wyoming’s own, former Vice P...</td>\n",
       "      <td>senjohnbarrasso</td>\n",
       "      <td>R</td>\n",
       "    </tr>\n",
       "    <tr>\n",
       "      <th>176256</th>\n",
       "      <td>We must be good stewards of our wildlife. That...</td>\n",
       "      <td>senjohnbarrasso</td>\n",
       "      <td>R</td>\n",
       "    </tr>\n",
       "    <tr>\n",
       "      <th>176257</th>\n",
       "      <td>Since Republicans passed the Tax Cuts and Jobs...</td>\n",
       "      <td>senjohnbarrasso</td>\n",
       "      <td>R</td>\n",
       "    </tr>\n",
       "    <tr>\n",
       "      <th>176258</th>\n",
       "      <td>Today, the Senate @IndianCommittee passed my b...</td>\n",
       "      <td>senjohnbarrasso</td>\n",
       "      <td>R</td>\n",
       "    </tr>\n",
       "    <tr>\n",
       "      <th>176259</th>\n",
       "      <td>The Ellbogen Foundation and WY National Board ...</td>\n",
       "      <td>senjohnbarrasso</td>\n",
       "      <td>R</td>\n",
       "    </tr>\n",
       "    <tr>\n",
       "      <th>176260</th>\n",
       "      <td>Yesterday’s Cheyenne Boys and Girls Club annua...</td>\n",
       "      <td>senjohnbarrasso</td>\n",
       "      <td>R</td>\n",
       "    </tr>\n",
       "    <tr>\n",
       "      <th>176261</th>\n",
       "      <td>I support @POTUS’s plan to reopen the governme...</td>\n",
       "      <td>senjohnbarrasso</td>\n",
       "      <td>R</td>\n",
       "    </tr>\n",
       "    <tr>\n",
       "      <th>176262</th>\n",
       "      <td>Today we honor the life of the Reverend Dr. Ma...</td>\n",
       "      <td>senjohnbarrasso</td>\n",
       "      <td>R</td>\n",
       "    </tr>\n",
       "    <tr>\n",
       "      <th>176263</th>\n",
       "      <td>Wonderful to visit with so many veterans from ...</td>\n",
       "      <td>senjohnbarrasso</td>\n",
       "      <td>R</td>\n",
       "    </tr>\n",
       "    <tr>\n",
       "      <th>176264</th>\n",
       "      <td>President @realDonaldTrump has put a reasonabl...</td>\n",
       "      <td>senjohnbarrasso</td>\n",
       "      <td>R</td>\n",
       "    </tr>\n",
       "    <tr>\n",
       "      <th>176265</th>\n",
       "      <td>Meals on Wheels is an admirable organization t...</td>\n",
       "      <td>senjohnbarrasso</td>\n",
       "      <td>R</td>\n",
       "    </tr>\n",
       "    <tr>\n",
       "      <th>176266</th>\n",
       "      <td>Was fortunate to have a lively discussion with...</td>\n",
       "      <td>senjohnbarrasso</td>\n",
       "      <td>R</td>\n",
       "    </tr>\n",
       "    <tr>\n",
       "      <th>176267</th>\n",
       "      <td>Democrats shouldn’t be playing politics with b...</td>\n",
       "      <td>senjohnbarrasso</td>\n",
       "      <td>R</td>\n",
       "    </tr>\n",
       "    <tr>\n",
       "      <th>176268</th>\n",
       "      <td>Spoke on the Senate floor today about the need...</td>\n",
       "      <td>senjohnbarrasso</td>\n",
       "      <td>R</td>\n",
       "    </tr>\n",
       "    <tr>\n",
       "      <th>176269</th>\n",
       "      <td>Congratulations to the hundreds of students fr...</td>\n",
       "      <td>senjohnbarrasso</td>\n",
       "      <td>R</td>\n",
       "    </tr>\n",
       "    <tr>\n",
       "      <th>176270</th>\n",
       "      <td>All Americans want a healthy immigration syste...</td>\n",
       "      <td>senjohnbarrasso</td>\n",
       "      <td>R</td>\n",
       "    </tr>\n",
       "    <tr>\n",
       "      <th>176271</th>\n",
       "      <td>As a doctor, lowering health insurance costs f...</td>\n",
       "      <td>senjohnbarrasso</td>\n",
       "      <td>R</td>\n",
       "    </tr>\n",
       "    <tr>\n",
       "      <th>176272</th>\n",
       "      <td>Reintroduced bipartisan legislation today alon...</td>\n",
       "      <td>senjohnbarrasso</td>\n",
       "      <td>R</td>\n",
       "    </tr>\n",
       "    <tr>\n",
       "      <th>176273</th>\n",
       "      <td>Honored to continue serving as chairman of Sen...</td>\n",
       "      <td>senjohnbarrasso</td>\n",
       "      <td>R</td>\n",
       "    </tr>\n",
       "    <tr>\n",
       "      <th>176274</th>\n",
       "      <td>Let’s start 2019 by passing commonsense legisl...</td>\n",
       "      <td>senjohnbarrasso</td>\n",
       "      <td>R</td>\n",
       "    </tr>\n",
       "    <tr>\n",
       "      <th>176275</th>\n",
       "      <td>Spoke on the Senate floor this morning about t...</td>\n",
       "      <td>senjohnbarrasso</td>\n",
       "      <td>R</td>\n",
       "    </tr>\n",
       "    <tr>\n",
       "      <th>176276</th>\n",
       "      <td>Congratulations to Wyoming’s newly sworn in Go...</td>\n",
       "      <td>senjohnbarrasso</td>\n",
       "      <td>R</td>\n",
       "    </tr>\n",
       "    <tr>\n",
       "      <th>176277</th>\n",
       "      <td>Thanks @SenatorFischer for escorting me at my ...</td>\n",
       "      <td>senjohnbarrasso</td>\n",
       "      <td>R</td>\n",
       "    </tr>\n",
       "    <tr>\n",
       "      <th>176278</th>\n",
       "      <td>We will continue our work to secure our border...</td>\n",
       "      <td>senjohnbarrasso</td>\n",
       "      <td>R</td>\n",
       "    </tr>\n",
       "    <tr>\n",
       "      <th>176279</th>\n",
       "      <td>Honored to represent the people of Wyoming in ...</td>\n",
       "      <td>senjohnbarrasso</td>\n",
       "      <td>R</td>\n",
       "    </tr>\n",
       "  </tbody>\n",
       "</table>\n",
       "<p>176280 rows × 3 columns</p>\n",
       "</div>"
      ],
      "text/plain": [
       "                                                    tweet         username  \\\n",
       "0       .@repjohnlewis was gracious enough to spend ti...   repterrisewell   \n",
       "1       At 450 pages, the Mueller Report is lengthy an...   repterrisewell   \n",
       "2       I am so grateful to have Samuel, our Selma int...   repterrisewell   \n",
       "3       Anyone who knows me knows my dad was an instru...   repterrisewell   \n",
       "4       Please help me welcome our newest summer inter...   repterrisewell   \n",
       "5       I always love meeting with talented students f...   repterrisewell   \n",
       "6       No American is above the law & for Congress to...   repterrisewell   \n",
       "7       I am thrilled to welcome our newest summer int...   repterrisewell   \n",
       "8       Our DC summer interns — John, Diamond, Marjori...   repterrisewell   \n",
       "9       : Please join me this Friday in Pickens County...   repterrisewell   \n",
       "10      Bucket list moment! Today I attended church in...   repterrisewell   \n",
       "11      A big welcome to our Birmingham summer interns...   repterrisewell   \n",
       "12      I was honored to stand with @RandallWoodfin to...   repterrisewell   \n",
       "13      The bravery of those who stormed the beaches o...   repterrisewell   \n",
       "14      I’m so proud of Selma City Schools! The Intl. ...   repterrisewell   \n",
       "15      President Trump’s trade policies are so reckle...   repterrisewell   \n",
       "16      Thank you to @LCBFoundation and @Uber Health f...   repterrisewell   \n",
       "17      The 10,000 Dreamers & TPS holders living in Al...   repterrisewell   \n",
       "18      Today is Foster Youth Shadow Day, a chance for...   repterrisewell   \n",
       "19      I was honored to meet with @FreeMindsDC this a...   repterrisewell   \n",
       "20      Medicaid expansion saves lives! And it also re...   repterrisewell   \n",
       "21      I'm proud to be participating in #FosterYouthS...   repterrisewell   \n",
       "22      Happy Pride Month! Pride Month is an opportuni...   repterrisewell   \n",
       "23      The Paris Agreement is a global pact between 2...   repterrisewell   \n",
       "24      Another unbelievably irresponsible threat by o...   repterrisewell   \n",
       "25      Meeting with Alabamians face-to-face and getti...   repterrisewell   \n",
       "26      I held a health care round table this morning ...   repterrisewell   \n",
       "27      Our Marengo County Congress in Your Community ...   repterrisewell   \n",
       "28      I hope I'll see you tomorrow, Sumter County! h...   repterrisewell   \n",
       "29      Congrats to the winners of the Princeton Prize...   repterrisewell   \n",
       "...                                                   ...              ...   \n",
       "176250  The Green New Deal is a raw deal for the Ameri...  senjohnbarrasso   \n",
       "176251  In his State of the Union address tonight, @re...  senjohnbarrasso   \n",
       "176252  Always encouraging to see so many students exc...  senjohnbarrasso   \n",
       "176253  Happy birthday to my good friend @SenatorEnzi....  senjohnbarrasso   \n",
       "176254  Proud to join with @SenStabenow to reintroduce...  senjohnbarrasso   \n",
       "176255  Happy birthday to Wyoming’s own, former Vice P...  senjohnbarrasso   \n",
       "176256  We must be good stewards of our wildlife. That...  senjohnbarrasso   \n",
       "176257  Since Republicans passed the Tax Cuts and Jobs...  senjohnbarrasso   \n",
       "176258  Today, the Senate @IndianCommittee passed my b...  senjohnbarrasso   \n",
       "176259  The Ellbogen Foundation and WY National Board ...  senjohnbarrasso   \n",
       "176260  Yesterday’s Cheyenne Boys and Girls Club annua...  senjohnbarrasso   \n",
       "176261  I support @POTUS’s plan to reopen the governme...  senjohnbarrasso   \n",
       "176262  Today we honor the life of the Reverend Dr. Ma...  senjohnbarrasso   \n",
       "176263  Wonderful to visit with so many veterans from ...  senjohnbarrasso   \n",
       "176264  President @realDonaldTrump has put a reasonabl...  senjohnbarrasso   \n",
       "176265  Meals on Wheels is an admirable organization t...  senjohnbarrasso   \n",
       "176266  Was fortunate to have a lively discussion with...  senjohnbarrasso   \n",
       "176267  Democrats shouldn’t be playing politics with b...  senjohnbarrasso   \n",
       "176268  Spoke on the Senate floor today about the need...  senjohnbarrasso   \n",
       "176269  Congratulations to the hundreds of students fr...  senjohnbarrasso   \n",
       "176270  All Americans want a healthy immigration syste...  senjohnbarrasso   \n",
       "176271  As a doctor, lowering health insurance costs f...  senjohnbarrasso   \n",
       "176272  Reintroduced bipartisan legislation today alon...  senjohnbarrasso   \n",
       "176273  Honored to continue serving as chairman of Sen...  senjohnbarrasso   \n",
       "176274  Let’s start 2019 by passing commonsense legisl...  senjohnbarrasso   \n",
       "176275  Spoke on the Senate floor this morning about t...  senjohnbarrasso   \n",
       "176276  Congratulations to Wyoming’s newly sworn in Go...  senjohnbarrasso   \n",
       "176277  Thanks @SenatorFischer for escorting me at my ...  senjohnbarrasso   \n",
       "176278  We will continue our work to secure our border...  senjohnbarrasso   \n",
       "176279  Honored to represent the people of Wyoming in ...  senjohnbarrasso   \n",
       "\n",
       "       Party  \n",
       "0          D  \n",
       "1          D  \n",
       "2          D  \n",
       "3          D  \n",
       "4          D  \n",
       "5          D  \n",
       "6          D  \n",
       "7          D  \n",
       "8          D  \n",
       "9          D  \n",
       "10         D  \n",
       "11         D  \n",
       "12         D  \n",
       "13         D  \n",
       "14         D  \n",
       "15         D  \n",
       "16         D  \n",
       "17         D  \n",
       "18         D  \n",
       "19         D  \n",
       "20         D  \n",
       "21         D  \n",
       "22         D  \n",
       "23         D  \n",
       "24         D  \n",
       "25         D  \n",
       "26         D  \n",
       "27         D  \n",
       "28         D  \n",
       "29         D  \n",
       "...      ...  \n",
       "176250     R  \n",
       "176251     R  \n",
       "176252     R  \n",
       "176253     R  \n",
       "176254     R  \n",
       "176255     R  \n",
       "176256     R  \n",
       "176257     R  \n",
       "176258     R  \n",
       "176259     R  \n",
       "176260     R  \n",
       "176261     R  \n",
       "176262     R  \n",
       "176263     R  \n",
       "176264     R  \n",
       "176265     R  \n",
       "176266     R  \n",
       "176267     R  \n",
       "176268     R  \n",
       "176269     R  \n",
       "176270     R  \n",
       "176271     R  \n",
       "176272     R  \n",
       "176273     R  \n",
       "176274     R  \n",
       "176275     R  \n",
       "176276     R  \n",
       "176277     R  \n",
       "176278     R  \n",
       "176279     R  \n",
       "\n",
       "[176280 rows x 3 columns]"
      ]
     },
     "execution_count": 175,
     "metadata": {},
     "output_type": "execute_result"
    }
   ],
   "source": [
    "Final_Congress_tweets"
   ]
  },
  {
   "cell_type": "code",
   "execution_count": 17,
   "metadata": {},
   "outputs": [],
   "source": [
    "Final_Congress_tweets.to_csv('Congress_tweets.csv', encoding='utf-8', index=False)"
   ]
  },
  {
   "cell_type": "markdown",
   "metadata": {},
   "source": [
    "## Predictions"
   ]
  },
  {
   "cell_type": "code",
   "execution_count": 4,
   "metadata": {},
   "outputs": [
    {
     "data": {
      "text/html": [
       "<div>\n",
       "<style scoped>\n",
       "    .dataframe tbody tr th:only-of-type {\n",
       "        vertical-align: middle;\n",
       "    }\n",
       "\n",
       "    .dataframe tbody tr th {\n",
       "        vertical-align: top;\n",
       "    }\n",
       "\n",
       "    .dataframe thead th {\n",
       "        text-align: right;\n",
       "    }\n",
       "</style>\n",
       "<table border=\"1\" class=\"dataframe\">\n",
       "  <thead>\n",
       "    <tr style=\"text-align: right;\">\n",
       "      <th></th>\n",
       "      <th>tweet</th>\n",
       "      <th>username</th>\n",
       "      <th>Party</th>\n",
       "    </tr>\n",
       "  </thead>\n",
       "  <tbody>\n",
       "    <tr>\n",
       "      <th>0</th>\n",
       "      <td>['repjohnlewi', 'wa', 'enough', 'spend', 'time...</td>\n",
       "      <td>repterrisewell</td>\n",
       "      <td>D</td>\n",
       "    </tr>\n",
       "    <tr>\n",
       "      <th>1</th>\n",
       "      <td>['page', 'mueller', 'report', 'make', 'clear',...</td>\n",
       "      <td>repterrisewell</td>\n",
       "      <td>D</td>\n",
       "    </tr>\n",
       "    <tr>\n",
       "      <th>2</th>\n",
       "      <td>['grate', 'samuel', 'selma', 'intern', 'team',...</td>\n",
       "      <td>repterrisewell</td>\n",
       "      <td>D</td>\n",
       "    </tr>\n",
       "    <tr>\n",
       "      <th>3</th>\n",
       "      <td>['anyon', 'know', 'know', 'dad', 'wa', 'instru...</td>\n",
       "      <td>repterrisewell</td>\n",
       "      <td>D</td>\n",
       "    </tr>\n",
       "    <tr>\n",
       "      <th>4</th>\n",
       "      <td>['pleas', 'help', 'welcom', 'newest', 'summer'...</td>\n",
       "      <td>repterrisewell</td>\n",
       "      <td>D</td>\n",
       "    </tr>\n",
       "  </tbody>\n",
       "</table>\n",
       "</div>"
      ],
      "text/plain": [
       "                                               tweet        username Party\n",
       "0  ['repjohnlewi', 'wa', 'enough', 'spend', 'time...  repterrisewell     D\n",
       "1  ['page', 'mueller', 'report', 'make', 'clear',...  repterrisewell     D\n",
       "2  ['grate', 'samuel', 'selma', 'intern', 'team',...  repterrisewell     D\n",
       "3  ['anyon', 'know', 'know', 'dad', 'wa', 'instru...  repterrisewell     D\n",
       "4  ['pleas', 'help', 'welcom', 'newest', 'summer'...  repterrisewell     D"
      ]
     },
     "execution_count": 4,
     "metadata": {},
     "output_type": "execute_result"
    }
   ],
   "source": [
    "df1  = pd.read_csv('Congress_tweets.csv')\n",
    "df1.head()"
   ]
  },
  {
   "cell_type": "code",
   "execution_count": 5,
   "metadata": {},
   "outputs": [
    {
     "data": {
      "text/html": [
       "<div>\n",
       "<style scoped>\n",
       "    .dataframe tbody tr th:only-of-type {\n",
       "        vertical-align: middle;\n",
       "    }\n",
       "\n",
       "    .dataframe tbody tr th {\n",
       "        vertical-align: top;\n",
       "    }\n",
       "\n",
       "    .dataframe thead th {\n",
       "        text-align: right;\n",
       "    }\n",
       "</style>\n",
       "<table border=\"1\" class=\"dataframe\">\n",
       "  <thead>\n",
       "    <tr style=\"text-align: right;\">\n",
       "      <th></th>\n",
       "      <th>tweet</th>\n",
       "      <th>Party</th>\n",
       "    </tr>\n",
       "    <tr>\n",
       "      <th>username</th>\n",
       "      <th></th>\n",
       "      <th></th>\n",
       "    </tr>\n",
       "  </thead>\n",
       "  <tbody>\n",
       "    <tr>\n",
       "      <th>repterrisewell</th>\n",
       "      <td>['repjohnlewi', 'wa', 'enough', 'spend', 'time...</td>\n",
       "      <td>D</td>\n",
       "    </tr>\n",
       "    <tr>\n",
       "      <th>repterrisewell</th>\n",
       "      <td>['page', 'mueller', 'report', 'make', 'clear',...</td>\n",
       "      <td>D</td>\n",
       "    </tr>\n",
       "    <tr>\n",
       "      <th>repterrisewell</th>\n",
       "      <td>['grate', 'samuel', 'selma', 'intern', 'team',...</td>\n",
       "      <td>D</td>\n",
       "    </tr>\n",
       "    <tr>\n",
       "      <th>repterrisewell</th>\n",
       "      <td>['anyon', 'know', 'know', 'dad', 'wa', 'instru...</td>\n",
       "      <td>D</td>\n",
       "    </tr>\n",
       "    <tr>\n",
       "      <th>repterrisewell</th>\n",
       "      <td>['pleas', 'help', 'welcom', 'newest', 'summer'...</td>\n",
       "      <td>D</td>\n",
       "    </tr>\n",
       "  </tbody>\n",
       "</table>\n",
       "</div>"
      ],
      "text/plain": [
       "                                                            tweet Party\n",
       "username                                                               \n",
       "repterrisewell  ['repjohnlewi', 'wa', 'enough', 'spend', 'time...     D\n",
       "repterrisewell  ['page', 'mueller', 'report', 'make', 'clear',...     D\n",
       "repterrisewell  ['grate', 'samuel', 'selma', 'intern', 'team',...     D\n",
       "repterrisewell  ['anyon', 'know', 'know', 'dad', 'wa', 'instru...     D\n",
       "repterrisewell  ['pleas', 'help', 'welcom', 'newest', 'summer'...     D"
      ]
     },
     "execution_count": 5,
     "metadata": {},
     "output_type": "execute_result"
    }
   ],
   "source": [
    "df1.set_index('username', inplace = True)\n",
    "df1.head()"
   ]
  },
  {
   "cell_type": "code",
   "execution_count": 6,
   "metadata": {},
   "outputs": [],
   "source": [
    "data = df1['tweet']\n",
    "target = df1['Party']"
   ]
  },
  {
   "cell_type": "code",
   "execution_count": 7,
   "metadata": {},
   "outputs": [],
   "source": [
    "from sklearn.model_selection import train_test_split\n",
    "from sklearn.feature_extraction.text import TfidfVectorizer, CountVectorizer\n",
    "from sklearn.metrics import accuracy_score, f1_score\n",
    "from sklearn.datasets import fetch_20newsgroups\n",
    "from sklearn.ensemble import RandomForestClassifier\n",
    "from sklearn.naive_bayes import MultinomialNB, GaussianNB\n",
    "from sklearn import metrics\n",
    "import numpy as np\n",
    "import xgboost as xgb\n",
    "import os\n",
    "os.environ['KMP_DUPLICATE_LIB_OK']= 'True'"
   ]
  },
  {
   "cell_type": "code",
   "execution_count": 8,
   "metadata": {},
   "outputs": [],
   "source": [
    "X_train, X_test, y_train, y_test = train_test_split(data , target, test_size=0.20)"
   ]
  },
  {
   "cell_type": "markdown",
   "metadata": {},
   "source": [
    "## TF-IDF Vectorizer"
   ]
  },
  {
   "cell_type": "code",
   "execution_count": 9,
   "metadata": {},
   "outputs": [],
   "source": [
    "vectorizer = TfidfVectorizer()\n",
    "tf_idf_data_train = vectorizer.fit_transform(X_train)\n",
    "tf_idf_data_test = vectorizer.transform(X_test)"
   ]
  },
  {
   "cell_type": "code",
   "execution_count": 10,
   "metadata": {},
   "outputs": [
    {
     "data": {
      "text/plain": [
       "(141024, 9554)"
      ]
     },
     "execution_count": 10,
     "metadata": {},
     "output_type": "execute_result"
    }
   ],
   "source": [
    "tf_idf_data_train.shape"
   ]
  },
  {
   "cell_type": "code",
   "execution_count": 11,
   "metadata": {},
   "outputs": [],
   "source": [
    "df_idf_visual = pd.DataFrame(tf_idf_data_train.todense(),columns = vectorizer.get_feature_names())"
   ]
  },
  {
   "cell_type": "code",
   "execution_count": 12,
   "metadata": {},
   "outputs": [
    {
     "name": "stdout",
     "output_type": "stream",
     "text": [
      "Average Number of Non-Zero Elements in Vectorized Articles: 19.253850408441117\n",
      "Percentage of columns containing 0: 0.9979847341000166\n"
     ]
    }
   ],
   "source": [
    "non_zero_cols = tf_idf_data_train.nnz / float(tf_idf_data_train.shape[0])\n",
    "print(\"Average Number of Non-Zero Elements in Vectorized Articles: {}\".format(non_zero_cols))\n",
    "\n",
    "percent_sparse = 1 - (non_zero_cols / float(tf_idf_data_train.shape[1]))\n",
    "print('Percentage of columns containing 0: {}'.format(percent_sparse))"
   ]
  },
  {
   "cell_type": "markdown",
   "metadata": {},
   "source": [
    "## Naive Bayes - TF-IDF"
   ]
  },
  {
   "cell_type": "code",
   "execution_count": 13,
   "metadata": {},
   "outputs": [],
   "source": [
    "nb_classifier = MultinomialNB()\n",
    "rf_classifier = RandomForestClassifier(n_estimators=150,max_depth=180, n_jobs=-1)\n",
    "xgb_classifier = xgb.XGBClassifier()"
   ]
  },
  {
   "cell_type": "code",
   "execution_count": 14,
   "metadata": {},
   "outputs": [],
   "source": [
    "nb_classifier.fit(tf_idf_data_train, y_train)\n",
    "nb_train_preds = nb_classifier.predict(tf_idf_data_train)\n",
    "nb_test_preds = nb_classifier.predict(tf_idf_data_test)"
   ]
  },
  {
   "cell_type": "code",
   "execution_count": 15,
   "metadata": {},
   "outputs": [
    {
     "data": {
      "text/plain": [
       "array([[20669,  1778],\n",
       "       [ 5047,  7762]])"
      ]
     },
     "execution_count": 15,
     "metadata": {},
     "output_type": "execute_result"
    }
   ],
   "source": [
    "confusion = metrics.confusion_matrix(y_test, nb_test_preds, labels = ['D','R'])\n",
    "confusion"
   ]
  },
  {
   "cell_type": "markdown",
   "metadata": {},
   "source": [
    "## Random Forest - TF-IDF"
   ]
  },
  {
   "cell_type": "code",
   "execution_count": 16,
   "metadata": {},
   "outputs": [],
   "source": [
    "rf_classifier.fit(tf_idf_data_train, y_train)\n",
    "rf_train_preds = rf_classifier.predict(tf_idf_data_train)\n",
    "rf_test_preds = rf_classifier.predict(tf_idf_data_test)"
   ]
  },
  {
   "cell_type": "code",
   "execution_count": 17,
   "metadata": {},
   "outputs": [
    {
     "name": "stdout",
     "output_type": "stream",
     "text": [
      "Multinomial Naive Bayes\n",
      "Training Accuracy: 0.8196 \t\t Testing Accuracy: 0.8064\n",
      "\n",
      "----------------------------------------------------------------------\n",
      "\n",
      "Random Forest\n",
      "Training Accuracy: 0.9646 \t\t Testing Accuracy: 0.7859\n"
     ]
    }
   ],
   "source": [
    "nb_train_score = accuracy_score(y_train, nb_train_preds)\n",
    "nb_test_score = accuracy_score(y_test, nb_test_preds)\n",
    "rf_train_score = accuracy_score(y_train, rf_train_preds)\n",
    "rf_test_score = accuracy_score(y_test, rf_test_preds)\n",
    "\n",
    "print(\"Multinomial Naive Bayes\")\n",
    "print(\"Training Accuracy: {:.4} \\t\\t Testing Accuracy: {:.4}\".format(nb_train_score, nb_test_score))\n",
    "print(\"\")\n",
    "print('-'*70)\n",
    "print(\"\")\n",
    "print('Random Forest')\n",
    "print(\"Training Accuracy: {:.4} \\t\\t Testing Accuracy: {:.4}\".format(rf_train_score, rf_test_score))\n",
    "\n"
   ]
  },
  {
   "cell_type": "markdown",
   "metadata": {},
   "source": [
    "## XGboost TF-IDF"
   ]
  },
  {
   "cell_type": "code",
   "execution_count": 18,
   "metadata": {},
   "outputs": [
    {
     "name": "stdout",
     "output_type": "stream",
     "text": [
      "xgboost\n",
      "Training Accuracy: 0.706 \t\t Testing Accuracy: 0.7022\n"
     ]
    }
   ],
   "source": [
    "xgb_classifier.fit(tf_idf_data_train, y_train)\n",
    "xgb_train_preds = xgb_classifier.predict(tf_idf_data_train)\n",
    "xgb_test_preds = xgb_classifier.predict(tf_idf_data_test)\n",
    "xgb_train_score = accuracy_score(y_train, xgb_train_preds)\n",
    "xgb_test_score = accuracy_score(y_test, xgb_test_preds)\n",
    "print('xgboost')\n",
    "print(\"Training Accuracy: {:.4} \\t\\t Testing Accuracy: {:.4}\".format(xgb_train_score, xgb_test_score))"
   ]
  },
  {
   "cell_type": "code",
   "execution_count": 19,
   "metadata": {},
   "outputs": [
    {
     "data": {
      "text/plain": [
       "array([[21780,   667],\n",
       "       [ 9833,  2976]])"
      ]
     },
     "execution_count": 19,
     "metadata": {},
     "output_type": "execute_result"
    }
   ],
   "source": [
    "confusion = metrics.confusion_matrix(y_test, xgb_test_preds, labels = ['D','R'])\n",
    "confusion"
   ]
  },
  {
   "cell_type": "markdown",
   "metadata": {},
   "source": [
    "# Count Vectorizer with Bigrams and Trigrams"
   ]
  },
  {
   "cell_type": "code",
   "execution_count": 20,
   "metadata": {},
   "outputs": [],
   "source": [
    "count_vectorizer = CountVectorizer(ngram_range=(1, 3),min_df  = 0.0001, max_df = 0.01)\n",
    "count_data_train = count_vectorizer.fit_transform(X_train)\n",
    "count_data_test = count_vectorizer.transform(X_test)"
   ]
  },
  {
   "cell_type": "code",
   "execution_count": 21,
   "metadata": {},
   "outputs": [
    {
     "data": {
      "text/plain": [
       "(141024, 38243)"
      ]
     },
     "execution_count": 21,
     "metadata": {},
     "output_type": "execute_result"
    }
   ],
   "source": [
    "count_data_train.shape"
   ]
  },
  {
   "cell_type": "markdown",
   "metadata": {},
   "source": [
    "## Naive Bayes - Count Vectorizer"
   ]
  },
  {
   "cell_type": "code",
   "execution_count": 22,
   "metadata": {},
   "outputs": [],
   "source": [
    "nb_classifier.fit(count_data_train, y_train)\n",
    "nb_train_preds = nb_classifier.predict(count_data_train)\n",
    "nb_test_preds = nb_classifier.predict(count_data_test)"
   ]
  },
  {
   "cell_type": "code",
   "execution_count": 23,
   "metadata": {},
   "outputs": [
    {
     "data": {
      "text/plain": [
       "array([[18344,  4103],\n",
       "       [ 2474, 10335]])"
      ]
     },
     "execution_count": 23,
     "metadata": {},
     "output_type": "execute_result"
    }
   ],
   "source": [
    "confusion = metrics.confusion_matrix(y_test, nb_test_preds, labels = ['D','R'])\n",
    "confusion"
   ]
  },
  {
   "cell_type": "code",
   "execution_count": 24,
   "metadata": {},
   "outputs": [
    {
     "name": "stdout",
     "output_type": "stream",
     "text": [
      "Multinomial Naive Bayes\n",
      "Training Accuracy: 0.8352 \t\t Testing Accuracy: 0.8135\n",
      "\n"
     ]
    }
   ],
   "source": [
    "nb_train_score = accuracy_score(y_train, nb_train_preds)\n",
    "nb_test_score = accuracy_score(y_test, nb_test_preds)\n",
    "print(\"Multinomial Naive Bayes\")\n",
    "print(\"Training Accuracy: {:.4} \\t\\t Testing Accuracy: {:.4}\".format(nb_train_score, nb_test_score))\n",
    "print(\"\")\n"
   ]
  },
  {
   "cell_type": "code",
   "execution_count": 25,
   "metadata": {},
   "outputs": [
    {
     "name": "stdout",
     "output_type": "stream",
     "text": [
      "['westmichigan' 'blunt senat news' 'presid ronald' 'senat iqextranet view'\n",
      " 'senat iqextranet' 'regulatori reform' 'leftist' 'illeg alien'\n",
      " 'forc vote born' 'longest serv republican' 'senat health committe'\n",
      " 'press releas amata' 'senat health' 'in north dakota'\n",
      " 'press releas blunt' 'press releas byrn' 'central arkansa' 'talofa'\n",
      " 'countri illeg' 'in northeast wisconsin' 'press releas cassidi'\n",
      " 'everi human life' 'senalexand statu' 'central will' 'regulatori relief'\n",
      " 'sen mike' 'senat lankford' 'herrerabeutl hous news' 'countymeet'\n",
      " 'straight month' 'here soundcloud user' 'congressman ben cline'\n",
      " 'via dailycal' 'senat news dr' 'evansvil']\n",
      "['wast border' 'promis mexico' 'machinistsunion' 'seawal'\n",
      " 'promis mexico would' 'fight help prevent' 'due trumpshutdown'\n",
      " 'fight health care' 'fight health' 'be check' 'fight gun'\n",
      " 'fight gender equal' 'fight gender' 'in sustain' 'fight full equal'\n",
      " 'time re open' 'fight free open' 'fight forthepeopl' 'durbin senat'\n",
      " 'fight equalpay' 'fight equal right' 'close pay gap' 'home health care'\n",
      " 'fight endgunviol' 'lyft' 'seattletim seattl news' 'promis fight'\n",
      " 'holi month ramadan' 'lujan' 'cnn polit trump'\n",
      " 'fight untileveryfamilyisreunit' 'lujan hous' 'lujan hous media'\n",
      " 'fight system' 'lunarnewyear']\n"
     ]
    }
   ],
   "source": [
    "rep_class_prob_sorted = nb_classifier.feature_log_prob_[0, :].argsort()\n",
    "dem_class_prob_sorted = nb_classifier.feature_log_prob_[1, :].argsort()\n",
    "\n",
    "print(np.take(count_vectorizer.get_feature_names(), rep_class_prob_sorted[:35]))\n",
    "print(np.take(count_vectorizer.get_feature_names(), dem_class_prob_sorted[:35]))\n"
   ]
  },
  {
   "cell_type": "markdown",
   "metadata": {},
   "source": [
    "## Random Forest - Count Vectorizer"
   ]
  },
  {
   "cell_type": "code",
   "execution_count": 26,
   "metadata": {},
   "outputs": [],
   "source": [
    "rf_classifier.fit(count_data_train, y_train)\n",
    "rf_train_preds = rf_classifier.predict(count_data_train)\n",
    "rf_test_preds = rf_classifier.predict(count_data_test)"
   ]
  },
  {
   "cell_type": "code",
   "execution_count": 27,
   "metadata": {},
   "outputs": [
    {
     "name": "stdout",
     "output_type": "stream",
     "text": [
      "----------------------------------------------------------------------\n",
      "\n",
      "Random Forest\n",
      "Training Accuracy: 0.8232 \t\t Testing Accuracy: 0.7621\n"
     ]
    }
   ],
   "source": [
    "rf_train_score = accuracy_score(y_train, rf_train_preds)\n",
    "rf_test_score = accuracy_score(y_test, rf_test_preds)\n",
    "\n",
    "print('-'*70)\n",
    "print(\"\")\n",
    "print('Random Forest')\n",
    "print(\"Training Accuracy: {:.4} \\t\\t Testing Accuracy: {:.4}\".format(rf_train_score, rf_test_score))"
   ]
  },
  {
   "cell_type": "code",
   "execution_count": 28,
   "metadata": {},
   "outputs": [
    {
     "data": {
      "text/html": [
       "<div>\n",
       "<style scoped>\n",
       "    .dataframe tbody tr th:only-of-type {\n",
       "        vertical-align: middle;\n",
       "    }\n",
       "\n",
       "    .dataframe tbody tr th {\n",
       "        vertical-align: top;\n",
       "    }\n",
       "\n",
       "    .dataframe thead th {\n",
       "        text-align: right;\n",
       "    }\n",
       "</style>\n",
       "<table border=\"1\" class=\"dataframe\">\n",
       "  <thead>\n",
       "    <tr style=\"text-align: right;\">\n",
       "      <th></th>\n",
       "      <th>importance</th>\n",
       "    </tr>\n",
       "  </thead>\n",
       "  <tbody>\n",
       "    <tr>\n",
       "      <th>foxnew</th>\n",
       "      <td>0.007137</td>\n",
       "    </tr>\n",
       "    <tr>\n",
       "      <th>secur border</th>\n",
       "      <td>0.006894</td>\n",
       "    </tr>\n",
       "    <tr>\n",
       "      <th>arkansa</th>\n",
       "      <td>0.005560</td>\n",
       "    </tr>\n",
       "    <tr>\n",
       "      <th>hoosier</th>\n",
       "      <td>0.005499</td>\n",
       "    </tr>\n",
       "    <tr>\n",
       "      <th>alaska</th>\n",
       "      <td>0.005441</td>\n",
       "    </tr>\n",
       "    <tr>\n",
       "      <th>indiana</th>\n",
       "      <td>0.005084</td>\n",
       "    </tr>\n",
       "    <tr>\n",
       "      <th>endtheshutdown</th>\n",
       "      <td>0.004504</td>\n",
       "    </tr>\n",
       "    <tr>\n",
       "      <th>ohio</th>\n",
       "      <td>0.004498</td>\n",
       "    </tr>\n",
       "    <tr>\n",
       "      <th>lgbtq</th>\n",
       "      <td>0.004316</td>\n",
       "    </tr>\n",
       "    <tr>\n",
       "      <th>via</th>\n",
       "      <td>0.004250</td>\n",
       "    </tr>\n",
       "    <tr>\n",
       "      <th>foxbusi</th>\n",
       "      <td>0.003969</td>\n",
       "    </tr>\n",
       "    <tr>\n",
       "      <th>public index</th>\n",
       "      <td>0.003754</td>\n",
       "    </tr>\n",
       "    <tr>\n",
       "      <th>tennesse</th>\n",
       "      <td>0.003747</td>\n",
       "    </tr>\n",
       "    <tr>\n",
       "      <th>god</th>\n",
       "      <td>0.003629</td>\n",
       "    </tr>\n",
       "    <tr>\n",
       "      <th>usmca</th>\n",
       "      <td>0.003610</td>\n",
       "    </tr>\n",
       "    <tr>\n",
       "      <th>senat public</th>\n",
       "      <td>0.003547</td>\n",
       "    </tr>\n",
       "    <tr>\n",
       "      <th>sayfi</th>\n",
       "      <td>0.003354</td>\n",
       "    </tr>\n",
       "    <tr>\n",
       "      <th>illeg immigr</th>\n",
       "      <td>0.003303</td>\n",
       "    </tr>\n",
       "    <tr>\n",
       "      <th>protectourcar</th>\n",
       "      <td>0.003246</td>\n",
       "    </tr>\n",
       "    <tr>\n",
       "      <th>collus</th>\n",
       "      <td>0.003227</td>\n",
       "    </tr>\n",
       "    <tr>\n",
       "      <th>growth</th>\n",
       "      <td>0.003150</td>\n",
       "    </tr>\n",
       "    <tr>\n",
       "      <th>venezuela</th>\n",
       "      <td>0.003142</td>\n",
       "    </tr>\n",
       "    <tr>\n",
       "      <th>housejudiciari</th>\n",
       "      <td>0.003126</td>\n",
       "    </tr>\n",
       "    <tr>\n",
       "      <th>dakota</th>\n",
       "      <td>0.003102</td>\n",
       "    </tr>\n",
       "    <tr>\n",
       "      <th>israel</th>\n",
       "      <td>0.003093</td>\n",
       "    </tr>\n",
       "  </tbody>\n",
       "</table>\n",
       "</div>"
      ],
      "text/plain": [
       "                importance\n",
       "foxnew            0.007137\n",
       "secur border      0.006894\n",
       "arkansa           0.005560\n",
       "hoosier           0.005499\n",
       "alaska            0.005441\n",
       "indiana           0.005084\n",
       "endtheshutdown    0.004504\n",
       "ohio              0.004498\n",
       "lgbtq             0.004316\n",
       "via               0.004250\n",
       "foxbusi           0.003969\n",
       "public index      0.003754\n",
       "tennesse          0.003747\n",
       "god               0.003629\n",
       "usmca             0.003610\n",
       "senat public      0.003547\n",
       "sayfi             0.003354\n",
       "illeg immigr      0.003303\n",
       "protectourcar     0.003246\n",
       "collus            0.003227\n",
       "growth            0.003150\n",
       "venezuela         0.003142\n",
       "housejudiciari    0.003126\n",
       "dakota            0.003102\n",
       "israel            0.003093"
      ]
     },
     "execution_count": 28,
     "metadata": {},
     "output_type": "execute_result"
    }
   ],
   "source": [
    "df_count = pd.DataFrame(count_data_train.todense(),columns = count_vectorizer.get_feature_names())\n",
    "feature_importance = pd.DataFrame(rf_classifier.feature_importances_, index=df_count.columns, columns=['importance']).sort_values('importance',ascending=False)\n",
    "feature_importance.head(25)"
   ]
  },
  {
   "cell_type": "markdown",
   "metadata": {},
   "source": [
    "## Xgboost - Count Vectorizer"
   ]
  },
  {
   "cell_type": "code",
   "execution_count": 29,
   "metadata": {},
   "outputs": [],
   "source": [
    "xgb_classifier.fit(count_data_train, y_train)\n",
    "xgb_train_preds = xgb_classifier.predict(count_data_train)\n",
    "xgb_test_preds = xgb_classifier.predict(count_data_test)"
   ]
  },
  {
   "cell_type": "code",
   "execution_count": 30,
   "metadata": {},
   "outputs": [
    {
     "name": "stdout",
     "output_type": "stream",
     "text": [
      "xgboost\n",
      "Training Accuracy: 0.694 \t\t Testing Accuracy: 0.6906\n"
     ]
    }
   ],
   "source": [
    "xgb_train_score = accuracy_score(y_train, xgb_train_preds)\n",
    "xgb_test_score = accuracy_score(y_test, xgb_test_preds)\n",
    "print('xgboost')\n",
    "print(\"Training Accuracy: {:.4} \\t\\t Testing Accuracy: {:.4}\".format(xgb_train_score, xgb_test_score))"
   ]
  },
  {
   "cell_type": "code",
   "execution_count": 31,
   "metadata": {},
   "outputs": [
    {
     "data": {
      "text/plain": [
       "array([[22126,   321],\n",
       "       [10586,  2223]])"
      ]
     },
     "execution_count": 31,
     "metadata": {},
     "output_type": "execute_result"
    }
   ],
   "source": [
    "confusion = metrics.confusion_matrix(y_test, xgb_test_preds, labels = ['D','R'])\n",
    "confusion"
   ]
  },
  {
   "cell_type": "code",
   "execution_count": 32,
   "metadata": {},
   "outputs": [
    {
     "data": {
      "text/html": [
       "<div>\n",
       "<style scoped>\n",
       "    .dataframe tbody tr th:only-of-type {\n",
       "        vertical-align: middle;\n",
       "    }\n",
       "\n",
       "    .dataframe tbody tr th {\n",
       "        vertical-align: top;\n",
       "    }\n",
       "\n",
       "    .dataframe thead th {\n",
       "        text-align: right;\n",
       "    }\n",
       "</style>\n",
       "<table border=\"1\" class=\"dataframe\">\n",
       "  <thead>\n",
       "    <tr style=\"text-align: right;\">\n",
       "      <th></th>\n",
       "      <th>importance</th>\n",
       "    </tr>\n",
       "  </thead>\n",
       "  <tbody>\n",
       "    <tr>\n",
       "      <th>foxnew</th>\n",
       "      <td>0.017794</td>\n",
       "    </tr>\n",
       "    <tr>\n",
       "      <th>igshid</th>\n",
       "      <td>0.016014</td>\n",
       "    </tr>\n",
       "    <tr>\n",
       "      <th>secureourbord</th>\n",
       "      <td>0.016014</td>\n",
       "    </tr>\n",
       "    <tr>\n",
       "      <th>senat public</th>\n",
       "      <td>0.016014</td>\n",
       "    </tr>\n",
       "    <tr>\n",
       "      <th>endtheshutdown</th>\n",
       "      <td>0.014235</td>\n",
       "    </tr>\n",
       "    <tr>\n",
       "      <th>lgbtq</th>\n",
       "      <td>0.014235</td>\n",
       "    </tr>\n",
       "    <tr>\n",
       "      <th>protectourcar</th>\n",
       "      <td>0.014235</td>\n",
       "    </tr>\n",
       "    <tr>\n",
       "      <th>secur border</th>\n",
       "      <td>0.012456</td>\n",
       "    </tr>\n",
       "    <tr>\n",
       "      <th>illeg</th>\n",
       "      <td>0.012456</td>\n",
       "    </tr>\n",
       "    <tr>\n",
       "      <th>alaska</th>\n",
       "      <td>0.010676</td>\n",
       "    </tr>\n",
       "    <tr>\n",
       "      <th>kind</th>\n",
       "      <td>0.010676</td>\n",
       "    </tr>\n",
       "    <tr>\n",
       "      <th>born aliv</th>\n",
       "      <td>0.010676</td>\n",
       "    </tr>\n",
       "    <tr>\n",
       "      <th>arkansa</th>\n",
       "      <td>0.010676</td>\n",
       "    </tr>\n",
       "    <tr>\n",
       "      <th>hoosier</th>\n",
       "      <td>0.010676</td>\n",
       "    </tr>\n",
       "    <tr>\n",
       "      <th>feder worker</th>\n",
       "      <td>0.008897</td>\n",
       "    </tr>\n",
       "    <tr>\n",
       "      <th>wsj</th>\n",
       "      <td>0.008897</td>\n",
       "    </tr>\n",
       "    <tr>\n",
       "      <th>dakota</th>\n",
       "      <td>0.008897</td>\n",
       "    </tr>\n",
       "    <tr>\n",
       "      <th>abort</th>\n",
       "      <td>0.008897</td>\n",
       "    </tr>\n",
       "    <tr>\n",
       "      <th>separ</th>\n",
       "      <td>0.008897</td>\n",
       "    </tr>\n",
       "    <tr>\n",
       "      <th>via</th>\n",
       "      <td>0.008897</td>\n",
       "    </tr>\n",
       "    <tr>\n",
       "      <th>usmca</th>\n",
       "      <td>0.008897</td>\n",
       "    </tr>\n",
       "    <tr>\n",
       "      <th>background check</th>\n",
       "      <td>0.008897</td>\n",
       "    </tr>\n",
       "    <tr>\n",
       "      <th>housejudiciari</th>\n",
       "      <td>0.008897</td>\n",
       "    </tr>\n",
       "    <tr>\n",
       "      <th>indiana</th>\n",
       "      <td>0.008897</td>\n",
       "    </tr>\n",
       "    <tr>\n",
       "      <th>southern border</th>\n",
       "      <td>0.008897</td>\n",
       "    </tr>\n",
       "  </tbody>\n",
       "</table>\n",
       "</div>"
      ],
      "text/plain": [
       "                  importance\n",
       "foxnew              0.017794\n",
       "igshid              0.016014\n",
       "secureourbord       0.016014\n",
       "senat public        0.016014\n",
       "endtheshutdown      0.014235\n",
       "lgbtq               0.014235\n",
       "protectourcar       0.014235\n",
       "secur border        0.012456\n",
       "illeg               0.012456\n",
       "alaska              0.010676\n",
       "kind                0.010676\n",
       "born aliv           0.010676\n",
       "arkansa             0.010676\n",
       "hoosier             0.010676\n",
       "feder worker        0.008897\n",
       "wsj                 0.008897\n",
       "dakota              0.008897\n",
       "abort               0.008897\n",
       "separ               0.008897\n",
       "via                 0.008897\n",
       "usmca               0.008897\n",
       "background check    0.008897\n",
       "housejudiciari      0.008897\n",
       "indiana             0.008897\n",
       "southern border     0.008897"
      ]
     },
     "execution_count": 32,
     "metadata": {},
     "output_type": "execute_result"
    }
   ],
   "source": [
    "df_count = pd.DataFrame(count_data_train.todense(),columns = count_vectorizer.get_feature_names())\n",
    "feature_importance = pd.DataFrame(xgb_classifier.feature_importances_, index=df_count.columns, columns=['importance']).sort_values('importance',ascending=False)\n",
    "feature_importance.head(25)"
   ]
  },
  {
   "cell_type": "markdown",
   "metadata": {},
   "source": [
    "# Count vector with only words (no bigrams or trigrams)"
   ]
  },
  {
   "cell_type": "code",
   "execution_count": 33,
   "metadata": {},
   "outputs": [],
   "source": [
    "count_vectorizer = CountVectorizer(ngram_range=(1, 1))\n",
    "count_data_train = count_vectorizer.fit_transform(X_train)\n",
    "count_data_test = count_vectorizer.transform(X_test)"
   ]
  },
  {
   "cell_type": "code",
   "execution_count": 34,
   "metadata": {},
   "outputs": [
    {
     "data": {
      "text/plain": [
       "(141024, 9554)"
      ]
     },
     "execution_count": 34,
     "metadata": {},
     "output_type": "execute_result"
    }
   ],
   "source": [
    "count_data_train.shape"
   ]
  },
  {
   "cell_type": "markdown",
   "metadata": {},
   "source": [
    "## Naive Bayes - Count Vectorizer (no bigrams or trigrams)"
   ]
  },
  {
   "cell_type": "code",
   "execution_count": 35,
   "metadata": {},
   "outputs": [],
   "source": [
    "nb_classifier.fit(count_data_train, y_train)\n",
    "nb_train_preds = nb_classifier.predict(count_data_train)\n",
    "nb_test_preds = nb_classifier.predict(count_data_test)"
   ]
  },
  {
   "cell_type": "code",
   "execution_count": 36,
   "metadata": {},
   "outputs": [
    {
     "data": {
      "text/plain": [
       "array([[18537,  3910],\n",
       "       [ 2956,  9853]])"
      ]
     },
     "execution_count": 36,
     "metadata": {},
     "output_type": "execute_result"
    }
   ],
   "source": [
    "confusion = metrics.confusion_matrix(y_test, nb_test_preds, labels = ['D','R'])\n",
    "confusion"
   ]
  },
  {
   "cell_type": "code",
   "execution_count": 37,
   "metadata": {},
   "outputs": [
    {
     "name": "stdout",
     "output_type": "stream",
     "text": [
      "Multinomial Naive Bayes\n",
      "Training Accuracy: 0.813 \t\t Testing Accuracy: 0.8053\n",
      "\n"
     ]
    }
   ],
   "source": [
    "nb_train_score = accuracy_score(y_train, nb_train_preds)\n",
    "nb_test_score = accuracy_score(y_test, nb_test_preds)\n",
    "print(\"Multinomial Naive Bayes\")\n",
    "print(\"Training Accuracy: {:.4} \\t\\t Testing Accuracy: {:.4}\".format(nb_train_score, nb_test_score))\n",
    "print(\"\")"
   ]
  },
  {
   "cell_type": "code",
   "execution_count": 38,
   "metadata": {},
   "outputs": [
    {
     "name": "stdout",
     "output_type": "stream",
     "text": [
      "['notforthepeopleact' 'heraldtribun' 'hice' 'hoeven' 'holdtothecap'\n",
      " 'homelandgop' 'rephartzl' 'honda' 'hoosierhighlight' 'hoosierhuddl'\n",
      " 'austinscott' 'housebudgetgop' 'repmikejohnson' 'housesciencegop' 'hrg'\n",
      " 'hughhewitt' 'hydesmith' 'idahoan' 'iditarod' 'westerncaucu'\n",
      " 'repannwagner' 'westmichigan' 'ijr' 'ik' 'asignaci' 'weallbleedblu'\n",
      " 'haut' 'washex' 'backtheblu' 'gaport' 'geneviev' 'gleason' 'riponadv'\n",
      " 'gojackswbb' 'riggleman' 'gopheat' 'gophous' 'waco' 'goptaxcut' 'wafb']\n",
      "['theblackcaucu' 'housebluedog' 'nevadacurr' 'housedemwomen' 'conform'\n",
      " 'housegvp' 'housejudiciary' 'housenewdem' 'ayanna' 'ayannapressley'\n",
      " 'virginiabeach' 'nevadaproud' 'liberian' 'concordmonitor' 'sunrisemvmt'\n",
      " 'lgbtqia' 'backgroundcheck' 'vial' 'backpaynow' 'lgbteqcaucu' 'swindl'\n",
      " 'newdemcoalit' 'commondream' 'houlahan' 'stub' 'sterigen' 'stevekerr'\n",
      " 'hofel' 'ppact' 'homag' 'homebuy' 'homecar' 'stopandshop' 'stopbernhardt'\n",
      " 'networklobbi' 'stopendlesswar' 'stopextinct' 'stoptheban' 'stopwheel'\n",
      " 'liftamerica']\n"
     ]
    }
   ],
   "source": [
    "rep_class_prob_sorted = nb_classifier.feature_log_prob_[0, :].argsort()\n",
    "dem_class_prob_sorted = nb_classifier.feature_log_prob_[1, :].argsort()\n",
    "\n",
    "print(np.take(count_vectorizer.get_feature_names(), rep_class_prob_sorted[:40]))\n",
    "print(np.take(count_vectorizer.get_feature_names(), dem_class_prob_sorted[:40]))"
   ]
  },
  {
   "cell_type": "markdown",
   "metadata": {},
   "source": [
    "## Random Forest - Count Vectorizer (no bigrams or trigrams)"
   ]
  },
  {
   "cell_type": "code",
   "execution_count": 39,
   "metadata": {},
   "outputs": [],
   "source": [
    "rf_classifier.fit(count_data_train, y_train)\n",
    "rf_train_preds = rf_classifier.predict(count_data_train)\n",
    "rf_test_preds = rf_classifier.predict(count_data_test)"
   ]
  },
  {
   "cell_type": "code",
   "execution_count": 40,
   "metadata": {},
   "outputs": [
    {
     "name": "stdout",
     "output_type": "stream",
     "text": [
      "----------------------------------------------------------------------\n",
      "\n",
      "Random Forest\n",
      "Training Accuracy: 0.9612 \t\t Testing Accuracy: 0.7911\n"
     ]
    }
   ],
   "source": [
    "rf_train_score = accuracy_score(y_train, rf_train_preds)\n",
    "rf_test_score = accuracy_score(y_test, rf_test_preds)\n",
    "\n",
    "print('-'*70)\n",
    "print(\"\")\n",
    "print('Random Forest')\n",
    "print(\"Training Accuracy: {:.4} \\t\\t Testing Accuracy: {:.4}\".format(rf_train_score, rf_test_score))"
   ]
  },
  {
   "cell_type": "code",
   "execution_count": 41,
   "metadata": {},
   "outputs": [
    {
     "data": {
      "text/plain": [
       "array([[21220,  1227],\n",
       "       [ 6138,  6671]])"
      ]
     },
     "execution_count": 41,
     "metadata": {},
     "output_type": "execute_result"
    }
   ],
   "source": [
    "confusion = metrics.confusion_matrix(y_test, rf_test_preds, labels = ['D','R'])\n",
    "confusion"
   ]
  },
  {
   "cell_type": "code",
   "execution_count": 42,
   "metadata": {},
   "outputs": [
    {
     "data": {
      "text/html": [
       "<div>\n",
       "<style scoped>\n",
       "    .dataframe tbody tr th:only-of-type {\n",
       "        vertical-align: middle;\n",
       "    }\n",
       "\n",
       "    .dataframe tbody tr th {\n",
       "        vertical-align: top;\n",
       "    }\n",
       "\n",
       "    .dataframe thead th {\n",
       "        text-align: right;\n",
       "    }\n",
       "</style>\n",
       "<table border=\"1\" class=\"dataframe\">\n",
       "  <thead>\n",
       "    <tr style=\"text-align: right;\">\n",
       "      <th></th>\n",
       "      <th>importance</th>\n",
       "    </tr>\n",
       "  </thead>\n",
       "  <tbody>\n",
       "    <tr>\n",
       "      <th>trump</th>\n",
       "      <td>0.010707</td>\n",
       "    </tr>\n",
       "    <tr>\n",
       "      <th>democrat</th>\n",
       "      <td>0.006389</td>\n",
       "    </tr>\n",
       "    <tr>\n",
       "      <th>bit</th>\n",
       "      <td>0.006200</td>\n",
       "    </tr>\n",
       "    <tr>\n",
       "      <th>great</th>\n",
       "      <td>0.005874</td>\n",
       "    </tr>\n",
       "    <tr>\n",
       "      <th>border</th>\n",
       "      <td>0.005107</td>\n",
       "    </tr>\n",
       "    <tr>\n",
       "      <th>potu</th>\n",
       "      <td>0.004922</td>\n",
       "    </tr>\n",
       "    <tr>\n",
       "      <th>forthepeopl</th>\n",
       "      <td>0.004810</td>\n",
       "    </tr>\n",
       "    <tr>\n",
       "      <th>trumpshutdown</th>\n",
       "      <td>0.004788</td>\n",
       "    </tr>\n",
       "    <tr>\n",
       "      <th>in</th>\n",
       "      <td>0.004404</td>\n",
       "    </tr>\n",
       "    <tr>\n",
       "      <th>climat</th>\n",
       "      <td>0.004381</td>\n",
       "    </tr>\n",
       "    <tr>\n",
       "      <th>foxnew</th>\n",
       "      <td>0.003734</td>\n",
       "    </tr>\n",
       "    <tr>\n",
       "      <th>that</th>\n",
       "      <td>0.003712</td>\n",
       "    </tr>\n",
       "    <tr>\n",
       "      <th>must</th>\n",
       "      <td>0.003694</td>\n",
       "    </tr>\n",
       "    <tr>\n",
       "      <th>fight</th>\n",
       "      <td>0.003156</td>\n",
       "    </tr>\n",
       "    <tr>\n",
       "      <th>hoosier</th>\n",
       "      <td>0.002963</td>\n",
       "    </tr>\n",
       "    <tr>\n",
       "      <th>gun</th>\n",
       "      <td>0.002949</td>\n",
       "    </tr>\n",
       "    <tr>\n",
       "      <th>indiana</th>\n",
       "      <td>0.002748</td>\n",
       "    </tr>\n",
       "    <tr>\n",
       "      <th>arkansa</th>\n",
       "      <td>0.002740</td>\n",
       "    </tr>\n",
       "    <tr>\n",
       "      <th>violenc</th>\n",
       "      <td>0.002649</td>\n",
       "    </tr>\n",
       "    <tr>\n",
       "      <th>alaska</th>\n",
       "      <td>0.002614</td>\n",
       "    </tr>\n",
       "    <tr>\n",
       "      <th>igshid</th>\n",
       "      <td>0.002606</td>\n",
       "    </tr>\n",
       "    <tr>\n",
       "      <th>work</th>\n",
       "      <td>0.002587</td>\n",
       "    </tr>\n",
       "    <tr>\n",
       "      <th>health</th>\n",
       "      <td>0.002564</td>\n",
       "    </tr>\n",
       "    <tr>\n",
       "      <th>worker</th>\n",
       "      <td>0.002557</td>\n",
       "    </tr>\n",
       "    <tr>\n",
       "      <th>administr</th>\n",
       "      <td>0.002524</td>\n",
       "    </tr>\n",
       "  </tbody>\n",
       "</table>\n",
       "</div>"
      ],
      "text/plain": [
       "               importance\n",
       "trump            0.010707\n",
       "democrat         0.006389\n",
       "bit              0.006200\n",
       "great            0.005874\n",
       "border           0.005107\n",
       "potu             0.004922\n",
       "forthepeopl      0.004810\n",
       "trumpshutdown    0.004788\n",
       "in               0.004404\n",
       "climat           0.004381\n",
       "foxnew           0.003734\n",
       "that             0.003712\n",
       "must             0.003694\n",
       "fight            0.003156\n",
       "hoosier          0.002963\n",
       "gun              0.002949\n",
       "indiana          0.002748\n",
       "arkansa          0.002740\n",
       "violenc          0.002649\n",
       "alaska           0.002614\n",
       "igshid           0.002606\n",
       "work             0.002587\n",
       "health           0.002564\n",
       "worker           0.002557\n",
       "administr        0.002524"
      ]
     },
     "execution_count": 42,
     "metadata": {},
     "output_type": "execute_result"
    }
   ],
   "source": [
    "df_count = pd.DataFrame(count_data_train.todense(),columns = count_vectorizer.get_feature_names())\n",
    "feature_importance = pd.DataFrame(rf_classifier.feature_importances_, index=df_count.columns, columns=['importance']).sort_values('importance',ascending=False)\n",
    "feature_importance.head(25)"
   ]
  },
  {
   "cell_type": "markdown",
   "metadata": {},
   "source": [
    "## Xgboost - Count Vectorizer (no bigrams or trigrams)"
   ]
  },
  {
   "cell_type": "code",
   "execution_count": 43,
   "metadata": {},
   "outputs": [],
   "source": [
    "xgb_classifier.fit(count_data_train, y_train)\n",
    "xgb_train_preds = xgb_classifier.predict(count_data_train)\n",
    "xgb_test_preds = xgb_classifier.predict(count_data_test)"
   ]
  },
  {
   "cell_type": "code",
   "execution_count": 44,
   "metadata": {},
   "outputs": [
    {
     "name": "stdout",
     "output_type": "stream",
     "text": [
      "xgboost\n",
      "Training Accuracy: 0.7037 \t\t Testing Accuracy: 0.7006\n"
     ]
    }
   ],
   "source": [
    "xgb_train_score = accuracy_score(y_train, xgb_train_preds)\n",
    "xgb_test_score = accuracy_score(y_test, xgb_test_preds)\n",
    "print('xgboost')\n",
    "print(\"Training Accuracy: {:.4} \\t\\t Testing Accuracy: {:.4}\".format(xgb_train_score, xgb_test_score))"
   ]
  },
  {
   "cell_type": "code",
   "execution_count": 45,
   "metadata": {},
   "outputs": [
    {
     "data": {
      "text/plain": [
       "array([[21795,   652],\n",
       "       [ 9904,  2905]])"
      ]
     },
     "execution_count": 45,
     "metadata": {},
     "output_type": "execute_result"
    }
   ],
   "source": [
    "confusion = metrics.confusion_matrix(y_test, xgb_test_preds, labels = ['D','R'])\n",
    "confusion"
   ]
  },
  {
   "cell_type": "code",
   "execution_count": 46,
   "metadata": {},
   "outputs": [
    {
     "data": {
      "text/html": [
       "<div>\n",
       "<style scoped>\n",
       "    .dataframe tbody tr th:only-of-type {\n",
       "        vertical-align: middle;\n",
       "    }\n",
       "\n",
       "    .dataframe tbody tr th {\n",
       "        vertical-align: top;\n",
       "    }\n",
       "\n",
       "    .dataframe thead th {\n",
       "        text-align: right;\n",
       "    }\n",
       "</style>\n",
       "<table border=\"1\" class=\"dataframe\">\n",
       "  <thead>\n",
       "    <tr style=\"text-align: right;\">\n",
       "      <th></th>\n",
       "      <th>importance</th>\n",
       "    </tr>\n",
       "  </thead>\n",
       "  <tbody>\n",
       "    <tr>\n",
       "      <th>trump</th>\n",
       "      <td>0.030744</td>\n",
       "    </tr>\n",
       "    <tr>\n",
       "      <th>democrat</th>\n",
       "      <td>0.025890</td>\n",
       "    </tr>\n",
       "    <tr>\n",
       "      <th>forthepeopl</th>\n",
       "      <td>0.024272</td>\n",
       "    </tr>\n",
       "    <tr>\n",
       "      <th>trumpshutdown</th>\n",
       "      <td>0.022654</td>\n",
       "    </tr>\n",
       "    <tr>\n",
       "      <th>border</th>\n",
       "      <td>0.021036</td>\n",
       "    </tr>\n",
       "    <tr>\n",
       "      <th>foxnew</th>\n",
       "      <td>0.017799</td>\n",
       "    </tr>\n",
       "    <tr>\n",
       "      <th>climat</th>\n",
       "      <td>0.017799</td>\n",
       "    </tr>\n",
       "    <tr>\n",
       "      <th>potu</th>\n",
       "      <td>0.016181</td>\n",
       "    </tr>\n",
       "    <tr>\n",
       "      <th>presid</th>\n",
       "      <td>0.014563</td>\n",
       "    </tr>\n",
       "    <tr>\n",
       "      <th>politician</th>\n",
       "      <td>0.012945</td>\n",
       "    </tr>\n",
       "    <tr>\n",
       "      <th>women</th>\n",
       "      <td>0.012945</td>\n",
       "    </tr>\n",
       "    <tr>\n",
       "      <th>gun</th>\n",
       "      <td>0.011327</td>\n",
       "    </tr>\n",
       "    <tr>\n",
       "      <th>bit</th>\n",
       "      <td>0.011327</td>\n",
       "    </tr>\n",
       "    <tr>\n",
       "      <th>igshid</th>\n",
       "      <td>0.011327</td>\n",
       "    </tr>\n",
       "    <tr>\n",
       "      <th>must</th>\n",
       "      <td>0.009709</td>\n",
       "    </tr>\n",
       "    <tr>\n",
       "      <th>great</th>\n",
       "      <td>0.009709</td>\n",
       "    </tr>\n",
       "    <tr>\n",
       "      <th>ohio</th>\n",
       "      <td>0.009709</td>\n",
       "    </tr>\n",
       "    <tr>\n",
       "      <th>abid</th>\n",
       "      <td>0.009709</td>\n",
       "    </tr>\n",
       "    <tr>\n",
       "      <th>collus</th>\n",
       "      <td>0.009709</td>\n",
       "    </tr>\n",
       "    <tr>\n",
       "      <th>usmca</th>\n",
       "      <td>0.009709</td>\n",
       "    </tr>\n",
       "    <tr>\n",
       "      <th>abort</th>\n",
       "      <td>0.008091</td>\n",
       "    </tr>\n",
       "    <tr>\n",
       "      <th>proud</th>\n",
       "      <td>0.008091</td>\n",
       "    </tr>\n",
       "    <tr>\n",
       "      <th>lgbtq</th>\n",
       "      <td>0.008091</td>\n",
       "    </tr>\n",
       "    <tr>\n",
       "      <th>equal</th>\n",
       "      <td>0.008091</td>\n",
       "    </tr>\n",
       "    <tr>\n",
       "      <th>hoosier</th>\n",
       "      <td>0.008091</td>\n",
       "    </tr>\n",
       "  </tbody>\n",
       "</table>\n",
       "</div>"
      ],
      "text/plain": [
       "               importance\n",
       "trump            0.030744\n",
       "democrat         0.025890\n",
       "forthepeopl      0.024272\n",
       "trumpshutdown    0.022654\n",
       "border           0.021036\n",
       "foxnew           0.017799\n",
       "climat           0.017799\n",
       "potu             0.016181\n",
       "presid           0.014563\n",
       "politician       0.012945\n",
       "women            0.012945\n",
       "gun              0.011327\n",
       "bit              0.011327\n",
       "igshid           0.011327\n",
       "must             0.009709\n",
       "great            0.009709\n",
       "ohio             0.009709\n",
       "abid             0.009709\n",
       "collus           0.009709\n",
       "usmca            0.009709\n",
       "abort            0.008091\n",
       "proud            0.008091\n",
       "lgbtq            0.008091\n",
       "equal            0.008091\n",
       "hoosier          0.008091"
      ]
     },
     "execution_count": 46,
     "metadata": {},
     "output_type": "execute_result"
    }
   ],
   "source": [
    "df_count = pd.DataFrame(count_data_train.todense(),columns = count_vectorizer.get_feature_names())\n",
    "feature_importance = pd.DataFrame(xgb_classifier.feature_importances_, index=df_count.columns, columns=['importance']).sort_values('importance',ascending=False)\n",
    "feature_importance.head(25)"
   ]
  },
  {
   "cell_type": "code",
   "execution_count": null,
   "metadata": {},
   "outputs": [],
   "source": []
  }
 ],
 "metadata": {
  "kernelspec": {
   "display_name": "Python 3",
   "language": "python",
   "name": "python3"
  },
  "language_info": {
   "codemirror_mode": {
    "name": "ipython",
    "version": 3
   },
   "file_extension": ".py",
   "mimetype": "text/x-python",
   "name": "python",
   "nbconvert_exporter": "python",
   "pygments_lexer": "ipython3",
   "version": "3.7.3"
  }
 },
 "nbformat": 4,
 "nbformat_minor": 2
}
