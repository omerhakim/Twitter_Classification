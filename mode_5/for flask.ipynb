{
 "cells": [
  {
   "cell_type": "code",
   "execution_count": 1,
   "metadata": {},
   "outputs": [],
   "source": [
    "import pandas as pd\n",
    "import numpy as np\n",
    "import twint\n",
    "import nest_asyncio\n",
    "nest_asyncio.apply()\n",
    "import json\n",
    "import nltk\n",
    "from nltk.collocations import *\n",
    "from nltk.stem import PorterStemmer\n",
    "import pickle\n",
    "from sklearn.feature_extraction.text import CountVectorizer\n",
    "from sklearn.naive_bayes import MultinomialNB\n",
    "from flask import Flask, request, render_template\n",
    "\n",
    "\n",
    "app = Flask(__name__)\n",
    "\n",
    "vectorizer= pickle.load( open( \"count_vector.pkl\", \"rb\" ) )\n",
    "nb_classifier= pickle.load( open(\"finalized_model_nb.pkl\", \"rb\"))\n",
    "\n",
    "@app.route('/predict', methods = ['POST'])\n",
    "def twitter_predict_party(t):\n",
    "    \n",
    "    try:\n",
    "            c = twint.Config()\n",
    "            c.Username = t\n",
    "            c.Since = \"2019-01-01\"\n",
    "            c.Store_json = True\n",
    "            c.Format = \"{username}\"\n",
    "            c.Hide_output = True\n",
    "            c.Custom[\"tweet\"] = [\"username\",\"tweet\"]\n",
    "            c.Output = t\n",
    "            twint.run.Search(c)\n",
    "    except:\n",
    "        pass\n",
    "    \n",
    "    input_tweets = pd.read_json(t + '/tweets.json', lines=True)\n",
    "    input_join_tweets =  input_tweets.groupby('username')['tweet'].apply(' '.join).reset_index()\n",
    "    pattern = \"([a-zA-Z]+(?:'[a-z]+)?)\"\n",
    "    input_join_tweets[\"tweet\"] =input_join_tweets[\"tweet\"].apply(lambda x: nltk.regexp_tokenize(x,pattern)) \n",
    "    with open('files/vocab_total_D_R.json', 'r') as f:\n",
    "        vocab_total_D_R = json.load(f)\n",
    "    porter = PorterStemmer()\n",
    "    input_join_tweets['tweet'][0] = [porter.stem(word) for word in input_join_tweets['tweet'][0]]\n",
    "    input_join_tweets['tweet'][0] = [word for word in input_join_tweets['tweet'][0] if word in vocab_total_D_R]\n",
    "    input_join_tweets.to_csv(t+'.csv')\n",
    "    input_join_tweets = pd.read_csv(t+'.csv')\n",
    "    input_join_tweets.drop('Unnamed: 0',axis = 1, inplace = True)\n",
    "    input_join_tweets.set_index('username', inplace = True)\n",
    "    \n",
    "    joint = input_join_tweets['tweet']\n",
    "    vec  = vectorizer.transform(joint)\n",
    "    pred = nb_classifier.predict(vec)\n",
    "    \n",
    "    return pred\n",
    "    \n",
    "\n",
    "    \n",
    "@app.route('/predict', methods = ['GET'])\n",
    "def render_html():\n",
    "    return render_template('index.html')"
   ]
  },
  {
   "cell_type": "code",
   "execution_count": 2,
   "metadata": {},
   "outputs": [
    {
     "data": {
      "text/plain": [
       "array(['R'], dtype='<U1')"
      ]
     },
     "execution_count": 2,
     "metadata": {},
     "output_type": "execute_result"
    }
   ],
   "source": [
    "twitter_predict_party('RonDeSantisFL')"
   ]
  },
  {
   "cell_type": "code",
   "execution_count": null,
   "metadata": {},
   "outputs": [],
   "source": []
  }
 ],
 "metadata": {
  "kernelspec": {
   "display_name": "Python 3",
   "language": "python",
   "name": "python3"
  },
  "language_info": {
   "codemirror_mode": {
    "name": "ipython",
    "version": 3
   },
   "file_extension": ".py",
   "mimetype": "text/x-python",
   "name": "python",
   "nbconvert_exporter": "python",
   "pygments_lexer": "ipython3",
   "version": "3.7.3"
  }
 },
 "nbformat": 4,
 "nbformat_minor": 2
}
